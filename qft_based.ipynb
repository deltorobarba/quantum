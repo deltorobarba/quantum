{
  "nbformat": 4,
  "nbformat_minor": 0,
  "metadata": {
    "colab": {
      "provenance": [],
      "authorship_tag": "ABX9TyOLYWNM5kQbCD5IjRUnFkGm",
      "include_colab_link": true
    },
    "kernelspec": {
      "name": "python3",
      "display_name": "Python 3"
    },
    "language_info": {
      "name": "python"
    }
  },
  "cells": [
    {
      "cell_type": "markdown",
      "metadata": {
        "id": "view-in-github",
        "colab_type": "text"
      },
      "source": [
        "<a href=\"https://colab.research.google.com/github/deltorobarba/quantum/blob/main/qft_based.ipynb\" target=\"_parent\"><img src=\"https://colab.research.google.com/assets/colab-badge.svg\" alt=\"Open In Colab\"/></a>"
      ]
    },
    {
      "cell_type": "markdown",
      "source": [
        "# <font color=\"blue\">**QFT-based Subroutine**"
      ],
      "metadata": {
        "id": "rVIyS70L5xgi"
      }
    },
    {
      "cell_type": "markdown",
      "source": [
        "*QFT-based Subroutine: Deutsch–Jozsa</font>*"
      ],
      "metadata": {
        "id": "vxftXa35oKkB"
      }
    },
    {
      "cell_type": "markdown",
      "source": [
        "https://richardwang-qm.medium.com/cirq-programming-3-the-deutsch-jozsa-bdc31982f187"
      ],
      "metadata": {
        "id": "JvD1MDpmehqg"
      }
    },
    {
      "cell_type": "markdown",
      "metadata": {
        "id": "Pw6485Ph9chE"
      },
      "source": [
        "https://jonathan-hui.medium.com/qc-quantum-algorithm-with-an-example-cf22c0b1ec31"
      ]
    },
    {
      "cell_type": "markdown",
      "metadata": {
        "id": "iOoBIJc1G6fx"
      },
      "source": [
        "Allgemein Oracel: https://towardsdatascience.com/the-quantum-oracle-demystified-65e8ffebd5d5"
      ]
    },
    {
      "cell_type": "markdown",
      "metadata": {
        "id": "0nwYZgYLxVWY"
      },
      "source": [
        "> Constant or balanced?\n",
        "\n",
        "* nutzt Quantum Fourier Transform"
      ]
    },
    {
      "cell_type": "markdown",
      "metadata": {
        "id": "E-K_XyerNrQz"
      },
      "source": [
        "There are four different possible functions:\n",
        "* Function f_0 always returns 0.\n",
        "* Function f_1 returns 0 if the input is 0 and it returns 1 if the input is 1.\n",
        "* Function f_2 returns 1 if the input is 0 and it returns 0 if the input is 1.\n",
        "* Function f_3 always returns 1.\n",
        "\n",
        "Task:\n",
        "* Send a number of several numbers to determine, if the function is a constant or a balanced?\n",
        "* f_0 und f_3 constant, f_1 und f_2 balanced\n",
        "* classical needs at least 2 numbers (0,1), quantum needs just 1 number to solve this"
      ]
    },
    {
      "cell_type": "markdown",
      "metadata": {
        "id": "lPY2GqiBbr-g"
      },
      "source": [
        "https://towardsdatascience.com/how-to-solve-a-problem-with-quantum-computing-4b04f3f882d9"
      ]
    },
    {
      "cell_type": "markdown",
      "metadata": {
        "id": "RZS4TVTytrgi"
      },
      "source": [
        "https://qiskit.org/textbook/ch-algorithms/deutsch-jozsa.html"
      ]
    },
    {
      "cell_type": "markdown",
      "metadata": {
        "id": "Gc0bGeLfgqjM"
      },
      "source": [
        "https://medium.com/quantum-untangled/quantum-untangled-quantum-computing-deutsch-jozsa-algorithm-guide-untangled-27adf4205913"
      ]
    },
    {
      "cell_type": "markdown",
      "metadata": {
        "id": "UkToXMWXgoNf"
      },
      "source": [
        "https://medium.com/quantum-untangled/the-deutsch-jozsa-algorithm-math-circuits-and-code-quantum-algorithms-untangled-f3b28be4cfd3"
      ]
    },
    {
      "cell_type": "markdown",
      "metadata": {
        "id": "06rwZsB6qbK6"
      },
      "source": [
        "https://en.m.wikipedia.org/wiki/Deutsch–Jozsa_algorithm"
      ]
    },
    {
      "cell_type": "markdown",
      "metadata": {
        "id": "rs29mGrUqi_-"
      },
      "source": [
        "*QFT-based Subroutine: Bernstein–Vazirani algorithm*"
      ]
    },
    {
      "cell_type": "markdown",
      "metadata": {
        "id": "tTd5Xyqp1ci5"
      },
      "source": [
        "> What is a string?"
      ]
    },
    {
      "cell_type": "markdown",
      "metadata": {
        "id": "3MHKCxMUqkZc"
      },
      "source": [
        "https://en.m.wikipedia.org/wiki/Bernstein–Vazirani_algorithm"
      ]
    },
    {
      "cell_type": "markdown",
      "metadata": {
        "id": "ocVJfp-tqdyb"
      },
      "source": [
        "*QFT-based Subroutine: Simon's problem*"
      ]
    },
    {
      "cell_type": "markdown",
      "metadata": {
        "id": "u2ndKgQk61Nd"
      },
      "source": [
        "https://jonathan-hui.medium.com/qc-simons-algorithm-be570a40f6de"
      ]
    },
    {
      "cell_type": "markdown",
      "metadata": {
        "id": "36gbhuaO1dhH"
      },
      "source": [
        "> 1-1 or 2-1 ?"
      ]
    },
    {
      "cell_type": "markdown",
      "metadata": {
        "id": "iTpg-Zg7qfPk"
      },
      "source": [
        "https://en.m.wikipedia.org/wiki/Simon%27s_problem"
      ]
    }
  ]
}