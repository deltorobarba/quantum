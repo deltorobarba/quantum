{
  "nbformat": 4,
  "nbformat_minor": 0,
  "metadata": {
    "colab": {
      "provenance": [],
      "authorship_tag": "ABX9TyOesEnddN3hl1jUQ6xbFaQt",
      "include_colab_link": true
    },
    "kernelspec": {
      "name": "python3",
      "display_name": "Python 3"
    },
    "language_info": {
      "name": "python"
    }
  },
  "cells": [
    {
      "cell_type": "markdown",
      "metadata": {
        "id": "view-in-github",
        "colab_type": "text"
      },
      "source": [
        "<a href=\"https://colab.research.google.com/github/deltorobarba/quantum/blob/main/vqe.ipynb\" target=\"_parent\"><img src=\"https://colab.research.google.com/assets/colab-badge.svg\" alt=\"Open In Colab\"/></a>"
      ]
    },
    {
      "cell_type": "markdown",
      "source": [
        "# <font color=\"blue\">**Variational Quantum Eigensolver**"
      ],
      "metadata": {
        "id": "U0Ys-jee6mZg"
      }
    },
    {
      "cell_type": "markdown",
      "metadata": {
        "id": "uYQVihuXzx6u"
      },
      "source": [
        "***Variational Eigensolver***"
      ]
    },
    {
      "cell_type": "markdown",
      "source": [
        "*Compute Ground State of Hydrogen Molecule $H_2$*"
      ],
      "metadata": {
        "id": "Etz7GFSqKGw7"
      }
    },
    {
      "cell_type": "markdown",
      "source": [
        "Variational Quantum Eigensolver (VQE) for Quantum Molecule Simulation"
      ],
      "metadata": {
        "id": "CWp9iiwv2bhF"
      }
    },
    {
      "cell_type": "markdown",
      "metadata": {
        "id": "uwad0OnHJwo_"
      },
      "source": [
        "*Physics: Variational Principle*"
      ]
    },
    {
      "cell_type": "markdown",
      "source": [
        "> Variational Methods: exist for approaching the ground state energy of a system"
      ],
      "metadata": {
        "id": "vzqG9Q4XyyXz"
      }
    },
    {
      "cell_type": "markdown",
      "source": [
        "Video: [Variational Methods | Quantum Mechanics](https://youtu.be/w4ijyrdLbNA)"
      ],
      "metadata": {
        "id": "6VXpqZ5nl7Rr"
      }
    },
    {
      "cell_type": "markdown",
      "metadata": {
        "id": "3UZvYf8qo901"
      },
      "source": [
        "https://en.m.wikipedia.org/wiki/Many-body_problem"
      ]
    },
    {
      "cell_type": "markdown",
      "metadata": {
        "id": "jIbVYnnHoVWl"
      },
      "source": [
        "In science and especially in mathematical studies, a [variational principle](https://en.m.wikipedia.org/wiki/Variational_principle) is one that enables a problem to be solved using calculus of variations, which concerns finding functions that optimize the values of quantities that depend on those functions."
      ]
    },
    {
      "cell_type": "markdown",
      "metadata": {
        "id": "l9es1qLwnZDC"
      },
      "source": [
        "In [quantum mechanics, the variational method](https://en.m.wikipedia.org/wiki/Variational_method_(quantum_mechanics)) is one way of finding approximations to the lowest energy eigenstate or ground state, and some excited states. This allows calculating approximate wavefunctions such as molecular orbitals. The basis for this method is the variational principle.\n",
        "\n",
        "  * The method consists of choosing a \"trial wavefunction\" depending on one or more parameters, and finding the values of these parameters for which the expectation value of the energy is the lowest possible.\n",
        "  \n",
        "  * The wavefunction obtained by fixing the parameters to such values is then an approximation to the ground state wavefunction, and the expectation value of the energy in that state is an upper bound to the ground state energy. **The [Hartree–Fock method](https://en.m.wikipedia.org/wiki/Hartree%E2%80%93Fock_method), [Density matrix renormalization group](https://en.m.wikipedia.org/wiki/Density_matrix_renormalization_group), and [Ritz method](https://en.m.wikipedia.org/wiki/Ritz_method) apply the variational method**.\n",
        "\n",
        "  * This principle relies on the fact that a Hermitian is equal to its own conjugate transpose (ie 𝐻=𝐻†), and since any eigenvalue of H must be real, all eigenvalues of 𝐻 have the property of 𝜆𝑖=𝜆∗."
      ]
    },
    {
      "cell_type": "markdown",
      "metadata": {
        "id": "fSZoNuemFMMs"
      },
      "source": [
        "https://qiskit.org/textbook/ch-applications/vqe-molecules.html"
      ]
    },
    {
      "cell_type": "markdown",
      "metadata": {
        "id": "b6j7ta94ZArN"
      },
      "source": [
        "https://medium.com/qiskit/building-a-quantum-variational-classifier-using-real-world-data-809c59eb17c2"
      ]
    },
    {
      "cell_type": "markdown",
      "metadata": {
        "id": "HN-gQVfsYhCT"
      },
      "source": [
        "https://pennylane.ai/qml/demos/tutorial_vqe.html"
      ]
    },
    {
      "cell_type": "markdown",
      "metadata": {
        "id": "lIso4Kx4a1ib"
      },
      "source": [
        "https://arxiv.org/abs/2012.09265"
      ]
    },
    {
      "cell_type": "markdown",
      "metadata": {
        "id": "Bs3OuOkNZsJ6"
      },
      "source": [
        "https://pennylane.ai/qml/demos/tutorial_quantum_natural_gradient.html"
      ]
    },
    {
      "cell_type": "markdown",
      "metadata": {
        "id": "uwFvJMygZt3U"
      },
      "source": [
        "https://pennylane.ai/qml/glossary/variational_circuit.html#glossary-variational-circuit"
      ]
    },
    {
      "cell_type": "markdown",
      "metadata": {
        "id": "6bAp8yN2ZvxP"
      },
      "source": [
        "https://pennylane.ai/qml/glossary/parameter_shift.html"
      ]
    },
    {
      "cell_type": "markdown",
      "metadata": {
        "id": "2WftQLDoZ2gL"
      },
      "source": [
        "https://de.wikipedia.org/wiki/Downhill-Simplex-Verfahren"
      ]
    },
    {
      "cell_type": "markdown",
      "metadata": {
        "id": "KEpc9rMfxC7l"
      },
      "source": [
        "*Mathematics: Variational Eigensolvers*"
      ]
    },
    {
      "cell_type": "markdown",
      "metadata": {
        "id": "0JB_bEi_jQO4"
      },
      "source": [
        "> Model different molecules and how they interact together\n",
        "\n",
        "* **Objective**: create new, more effective medicines along with researching how medications might react with diseases such as cancer.\n",
        "\n",
        "* **Challenge**: effectively make the calculations needed for the chemical reactions that occur.\n",
        "\n",
        "  * One such calculation is **calculating the ground state energy of different small molecules**.\n",
        "\n",
        "  * Running this calculation on a classical computer can take exponential time to get an exact numerical answer.\n",
        "\n",
        "\n",
        "* *Exkurs: The [ground state energy](https://en.wikipedia.org/wiki/Excited_state) is the lowest possible energy state that a molecule can be in. This is important because it gives more information about the electron configuration of the molecule.*\n",
        "\n",
        "![gg](https://upload.wikimedia.org/wikipedia/commons/thumb/a/a8/Energy_levels.svg/306px-Energy_levels.svg.png)\n"
      ]
    },
    {
      "cell_type": "markdown",
      "metadata": {
        "id": "LiqkS33cksH0"
      },
      "source": [
        "**From chemistry and physics we know that the Schrodinger equation tells us that if $H$ is the Hamiltonian of a system, $H|ψ⟩ = E_g|ψ⟩$ where the minimum eigenvalue $E_g$ that solves this equation corresponds to the ground state energy of the molecule**.\n",
        "\n",
        "* To find this energy, we want to **find the exact minimum eigenvalue** that corresponds to that Hermitian matrix.\n",
        "\n",
        "* However that **would require a perfectly working quantum computer using the QPE (Quantum Phase Estimation Algorithm)**, which is not possible as of right now.\n",
        "\n",
        "* Rather, we can use the [variational principle](https://en.wikipedia.org/wiki/Variational_principle) to find a close, if not exact solution.\n",
        "\n",
        "\n",
        "\n",
        "\n"
      ]
    },
    {
      "cell_type": "markdown",
      "metadata": {
        "id": "27hAQiw0pl5c"
      },
      "source": [
        "This principle relies on the fact that a Hermitian is equal to its own conjugate transpose (ie 𝐻=𝐻†),\n",
        "\n",
        "* and since any eigenvalue of H must be real, all eigenvalues of 𝐻 have the property of 𝜆𝑖=𝜆∗.\n",
        "\n",
        "* We can rewrite the Hermitian as follows, where 𝜆 is the eigenvalue associated with the eigenvector |𝜓_i⟩\n",
        "\n",
        "> $H=\\sum_{i=1}^{N} \\lambda_{i}\\left|\\psi_{i}\\right\\rangle\\left\\langle\\psi_{i}\\right|$\n",
        "\n",
        "* which we can then use to define the expectation of this Hermitian as\n",
        "\n",
        "> $\\langle H\\rangle_{\\psi} \\equiv\\langle\\psi|H| \\psi\\rangle$\n",
        "\n",
        "* And finally we can substitute in for $H$ and get the following\n",
        "\n",
        "> $\\begin{aligned}\\langle H\\rangle_{\\psi}=\\langle\\psi|H| \\psi\\rangle &=\\left\\langle\\psi\\left|\\left(\\sum_{i=1}^{N} \\lambda_{i}\\left|\\psi_{i}\\right\\rangle\\left\\langle\\psi_{i}\\right|\\right)\\right| \\psi\\right\\rangle \\\\ &=\\sum_{i=1}^{N} \\lambda_{i}\\left\\langle\\psi \\mid \\psi_{i}\\right\\rangle\\left\\langle\\psi_{i} \\mid \\psi\\right\\rangle \\\\ &=\\sum_{i=1}^{N} \\lambda_{i}\\left|\\left\\langle\\psi_{i} \\mid \\psi\\right\\rangle\\right|^{2} \\end{aligned}$\n",
        "\n",
        "* which demonstrates that **any state can be described using a sum of the eigenvalues of the Hermitian as weights**.\n",
        "\n",
        "* One final property of the Hermitian is what truly allows the variational principle to work is that the eigenvalues of it have to be real, non-negative numbers, such that\n",
        "\n",
        "> $\\lambda_{\\min } \\leq\\langle H\\rangle_{\\psi}=\\langle\\psi|H| \\psi\\rangle$\n",
        "\n",
        "* And this equation is what gives power to the Variational Quantum Eigensolver.\n",
        "\n",
        "> **Since the minimum eigenvalue can never be smaller than the expectation value that we are looking for, then by minimizing our expectation, we will get really close to the minimum eigenvalue**."
      ]
    },
    {
      "cell_type": "markdown",
      "metadata": {
        "id": "_vEB311no4HD"
      },
      "source": [
        "https://medium.com/mit-6-s089-intro-to-quantum-computing/quantum-molecule-simulation-using-vqe-d34b9c651e3d"
      ]
    },
    {
      "cell_type": "markdown",
      "source": [
        "*Summary*"
      ],
      "metadata": {
        "id": "xxW3BUetjgJc"
      }
    },
    {
      "cell_type": "markdown",
      "source": [
        "**Tutorial** from [Pennylane: A brief overview of VQE](https://pennylane.ai/qml/demos/tutorial_vqe.html)"
      ],
      "metadata": {
        "id": "iUF_DCN07CHE"
      }
    },
    {
      "cell_type": "markdown",
      "source": [
        "**Alternative Tutorial** [Variational Quantum Eigensolver (VQE) Example](https://joshuagoings.com/2020/08/20/VQE/)"
      ],
      "metadata": {
        "id": "TcnG4ANJornW"
      }
    },
    {
      "cell_type": "markdown",
      "source": [
        "**Video: [How to design a quantum variational eigensolver?](https://www.youtube.com/watch?v=bwmLfxelwUA)**"
      ],
      "metadata": {
        "id": "CaXDDarUHAG8"
      }
    },
    {
      "cell_type": "markdown",
      "source": [
        "**Video: [Quantum Variational Eigensolver](https://www.youtube.com/watch?v=UBkb54_MOLo)**"
      ],
      "metadata": {
        "id": "bYxhGomMBEBd"
      }
    },
    {
      "cell_type": "markdown",
      "source": [
        "**Objective:** Find the ground state of some Hamiltonian (for example solving for the ground states of some molecule)"
      ],
      "metadata": {
        "id": "vBIIu-3KiCA6"
      }
    },
    {
      "cell_type": "markdown",
      "source": [
        "**You could actually use Quantum Phase Estimation (it is exact!), but there are two problems**:\n",
        "\n",
        "* you need an accurate approximate wavefunction as an input\n",
        "\n",
        "* The number of gates represent the unitary operator\n",
        "\n",
        "> $U=e^{i t \\hat{H}} \\approx \\prod_{j} U_{j}^{(g)}$\n",
        "\n",
        "  * Quantum computers cannot implement exponents of hamiltonian as one gate for interesting problems,\n",
        "\n",
        "  * you need to break this unitary transformation into a product of elementary gates,\n",
        "\n",
        "  * a sequence of those gates becomes too long to implement on any currently available computer"
      ],
      "metadata": {
        "id": "8OVvx_k6Ax2S"
      }
    },
    {
      "cell_type": "markdown",
      "source": [
        "**In order to address two of these problems the variational quantum eigensolver was suggested**\n",
        "\n",
        "> $\\mathrm{E}_{\\mathrm{e}}=\\min _{\\theta}<0\\left|\\mathrm{U}(\\theta)^{\\prime} \\mathrm{HU}(\\theta)\\right| 0>$\n",
        "\n",
        "* trying to optimize the unitary transformation directly so that the energy would be minimized,\n",
        "\n",
        "* instead of (like in QPE) setting up a particular unitary transformation and then breaking it donw into gates\n",
        "\n",
        "* quantum/classical hybrid algorithm that can be used to find eigenvalues of a (often large) matrix H\n",
        "\n",
        "* In this hybrid algorithm a quantum subroutine is run inside of a classical optimization loop."
      ],
      "metadata": {
        "id": "iOhY3aRzA2F4"
      }
    },
    {
      "cell_type": "markdown",
      "source": [
        "**General Structure**:\n",
        "\n",
        "1. quantum computer efficiently computes cost function (Hamiltonian, energy) and sends cost to classical computer\n",
        "\n",
        "  * Prepare the quantum state $|\\Psi(\\operatorname{vec}(\\theta))\\rangle$, often called the ansatz.\n",
        "\n",
        "  * Measure the expectation value $\\langle\\Psi(\\operatorname{vec}(\\theta))|H| \\Psi(\\operatorname{vec}(\\theta))\\rangle$ = cost function = Hamiltonian, energy\n",
        "\n",
        "2. Classical computer adjusts the parameters of the Ansatz to reduce cost and sends new parameters to quantum computer"
      ],
      "metadata": {
        "id": "J5xEa_zwhk8K"
      }
    },
    {
      "cell_type": "markdown",
      "source": [
        "*The [variational principle](https://en.wikipedia.org/wiki/Variational_method_(quantum_mechanics)) ensures that this expectation value is always greater than the smallest eigenvalue of H.*\n",
        "\n",
        "*This bound allows us to use classical computation to run an optimization loop to find this eigenvalue:*\n",
        "\n",
        "* *Use a classical non-linear optimizer to minimize the expectation value by varying ansatz parameters vec(θ).*\n",
        "\n",
        "* *Iterate until convergence.*"
      ],
      "metadata": {
        "id": "KGMe-zM8mFo9"
      }
    },
    {
      "cell_type": "markdown",
      "source": [
        "**Challenges**:\n",
        "\n",
        "* Unitary transformation $U (\\theta)$ is not easy to find because it lives in an exponentially larege space of all possible unitary trransformations\n",
        "\n",
        "* Entire $H_q$ measurement cannot be done at once, you partition the Hamiltonian in pieces which you need to measure separately\n",
        "\n",
        "* The Hilbert space of the qubit Hamiltonian $H_q$ is essentially equivalent to the entire Fock space of the original problem, that contains various electronic states (vraious numbers of electrons, spins etc), and looking for one particular electronic state would be challenging"
      ],
      "metadata": {
        "id": "CvYH-uFMA_AZ"
      }
    },
    {
      "cell_type": "markdown",
      "source": [
        "**Examples**\n",
        "\n",
        "* There are many applications for this, for example for electronic structure but also for nuclear structure\n",
        "\n",
        "* For example in one paper they solve for the ground state of the deuterum Hamiltonian, starting with the fermionic hamiltonian,\n",
        "\n",
        "> $H_{N}=\\sum_{n, n^{\\prime}=0}^{N-1}\\left\\langle n^{\\prime}|(T+V)| n\\right\\rangle a_{n^{\\prime}}^{\\dagger} a_{n}$\n",
        "\n",
        "* they then transform it into Pauli operators\n",
        "\n",
        "> $a_{n}^{\\dagger} \\rightarrow \\frac{1}{2}\\left[\\prod_{j=0}^{n-1}-Z_{j}\\right]\\left(X_{n}-i Y_{n}\\right)$ (Jordan Wigner transformation)\n",
        "\n",
        "* And then they have a simple ansatz for the ground state, and then they train the parameters of this Ansatz in order to solve for the ground state energy\n",
        "\n",
        "* And they find good agreement bvetween the ground state energy from the quantum computer versus the one they get from the exact classical diagonalization"
      ],
      "metadata": {
        "id": "En6N023wG5ng"
      }
    },
    {
      "cell_type": "markdown",
      "metadata": {
        "id": "jZsI8tEJE71Z"
      },
      "source": [
        "*Variational Quantum Algorithms*"
      ]
    },
    {
      "cell_type": "markdown",
      "source": [
        "\n",
        "https://quantumai.google/cirq/experiments/hfvqe\n",
        "\n",
        "https://quantumai.google/cirq/tutorials/variational_algorithm"
      ],
      "metadata": {
        "id": "yX_yESdxWp7w"
      }
    },
    {
      "cell_type": "markdown",
      "metadata": {
        "id": "mchK5ds1ZyZ0"
      },
      "source": [
        "Arxiv Paper: [Variational Quantum Algorithms](https://arxiv.org/abs/2012.09265)"
      ]
    },
    {
      "cell_type": "markdown",
      "metadata": {
        "id": "4Y91QHCl4SbN"
      },
      "source": [
        "![ggg](https://raw.githubusercontent.com/deltorobarba/repo/master/quantum_187.png)"
      ]
    },
    {
      "cell_type": "markdown",
      "metadata": {
        "id": "I2CYVzIK4kZ4"
      },
      "source": [
        "Source: [Variational Quantum Algorithms](https://www.youtube.com/watch?v=YtepXvx5zdI)"
      ]
    },
    {
      "cell_type": "markdown",
      "metadata": {
        "id": "rKgoHa655aMo"
      },
      "source": [
        "*Ansatz*"
      ]
    },
    {
      "cell_type": "markdown",
      "metadata": {
        "id": "IUM1pav6UCc8"
      },
      "source": [
        "how noise can influence which ansatz family is best for a quantum chemistry problem: https://medium.com/qiskit/the-effect-of-noise-on-the-performance-of-variational-algorithms-for-quantum-chemistry-9cac4526abc1"
      ]
    },
    {
      "cell_type": "markdown",
      "metadata": {
        "id": "6mymJlxS5ksj"
      },
      "source": [
        "> In the context of variational circuits, an ansatz usually describes a subroutine consisting of a sequence of gates applied to specific wires. Similar to the architecture of a neural network, this only defines the base structure, while the types of gates and/or their free parameters can be optimized by the variational procedure."
      ]
    },
    {
      "cell_type": "markdown",
      "source": [
        "**One can distinguish three different base structures, namely**\n",
        "\n",
        "* a layered gate ansatz,\n",
        "\n",
        "* an alternating operator ansatz,\n",
        "\n",
        "* a tensor network ansatz."
      ],
      "metadata": {
        "id": "IYSjeVDOzbi2"
      }
    },
    {
      "cell_type": "markdown",
      "metadata": {
        "id": "bD06mqeD6X6q"
      },
      "source": [
        "**The ansatz can come from:**\n",
        "\n",
        "- Some basis in physics, chemistry, or quantum information theory (e.g., VQE)\n",
        "- The structure of the problem (e.g., QAOA)\n",
        "- Intuition borrowed from machine learning\n",
        "- No place at all (use your imagination!)\n",
        "\n"
      ]
    },
    {
      "cell_type": "markdown",
      "source": [
        "> The choice of ansatz affects the model/function that can be learned (more layers often better)"
      ],
      "metadata": {
        "id": "FEgNj0N2ziJr"
      }
    },
    {
      "cell_type": "markdown",
      "metadata": {
        "id": "pbmcwRVf5pYs"
      },
      "source": [
        "https://pennylane.ai/qml/glossary/circuit_ansatz.html\n",
        "\n",
        "https://medium.com/arnaldo-gunzi-quantum/what-is-ansatz-31e682b0518b"
      ]
    },
    {
      "cell_type": "markdown",
      "metadata": {
        "id": "Kpjg59I95eC1"
      },
      "source": [
        "![ggg](https://raw.githubusercontent.com/deltorobarba/repo/master/quantum_188.png)"
      ]
    },
    {
      "cell_type": "markdown",
      "metadata": {
        "id": "tviO07jk55fa"
      },
      "source": [
        "https://en.m.wikipedia.org/wiki/Ansatz"
      ]
    },
    {
      "cell_type": "markdown",
      "metadata": {
        "id": "RrXigHIY580L"
      },
      "source": [
        "https://de.m.wikipedia.org/wiki/Ansatz_(Mathematik)"
      ]
    },
    {
      "cell_type": "markdown",
      "metadata": {
        "id": "tyVjijNZ6z6d"
      },
      "source": [
        "*Embedd Classical Data into a Quantum Variational Circuit*"
      ]
    },
    {
      "cell_type": "markdown",
      "metadata": {
        "id": "yTVi4fzN7Imi"
      },
      "source": [
        "![ggg](https://raw.githubusercontent.com/deltorobarba/repo/master/quantum_189.png)"
      ]
    },
    {
      "cell_type": "markdown",
      "metadata": {
        "id": "etzb2UbG71sG"
      },
      "source": [
        "> **The easiest way for a parameter to enter a circuit is through a rotation of a single qubit, in proportion to the value of a single datapoint, so a single scalar value:**"
      ]
    },
    {
      "cell_type": "markdown",
      "metadata": {
        "id": "Orvytb0Y7Ycl"
      },
      "source": [
        "![ggg](https://raw.githubusercontent.com/deltorobarba/repo/master/quantum_190.png)"
      ]
    },
    {
      "cell_type": "markdown",
      "metadata": {
        "id": "KeImLV0H8Nhx"
      },
      "source": [
        "> **You can also use a sequence of rotations to embedd data (reuploding).** And maybe there is free parameters in between as well. Can make a more complex function available than if you upload only once in a single rotation."
      ]
    },
    {
      "cell_type": "markdown",
      "metadata": {
        "id": "-_p7ffou87Gk"
      },
      "source": [
        "> **Learnable embeddings**: The other idea is to actually have a trainable embedding layer. Not to worry about training the unitary of the circuit, but worry about training the embedding and then use standard quantum information metrics to classify the data."
      ]
    },
    {
      "cell_type": "markdown",
      "metadata": {
        "id": "kua5H4gE8FUc"
      },
      "source": [
        "![ggg](https://raw.githubusercontent.com/deltorobarba/repo/master/quantum_191.png)"
      ]
    },
    {
      "cell_type": "markdown",
      "metadata": {
        "id": "CtZBdM2s9PDV"
      },
      "source": [
        "*Optimizer*"
      ]
    },
    {
      "cell_type": "markdown",
      "metadata": {
        "id": "bZYQ6s4l9yCM"
      },
      "source": [
        "> When we're using variational circuits, if you can compute the gradients the parameter shift rule, then that opens up every possible flavor of gradient descent. Like standard gradient descent, but in deep learning also all sorts of gradient descent optimizers. Most common: momentum and Adam."
      ]
    },
    {
      "cell_type": "markdown",
      "metadata": {
        "id": "f0nB-YEG9Ltt"
      },
      "source": [
        "![ggg](https://raw.githubusercontent.com/deltorobarba/repo/master/quantum_192.png)"
      ]
    },
    {
      "cell_type": "markdown",
      "metadata": {
        "id": "rYqxrIGc90vE"
      },
      "source": [
        "<font color=\"blue\">**But there are also quantum-aware optimizers!**"
      ]
    },
    {
      "cell_type": "markdown",
      "metadata": {
        "id": "QuKopxf3-wYa"
      },
      "source": [
        "**Rotosolve**: don't use gradient descent, but sinusoid structure. You eventually end up in a global minima via a sequence of individual jumps to local minima."
      ]
    },
    {
      "cell_type": "markdown",
      "metadata": {
        "id": "-wELAvvAYaCp"
      },
      "source": [
        "[**Quantum Natural Optimizer**](https://pennylane.ai/qml/demos/tutorial_quantum_natural_gradient.html): Internal geometry of quantum circuits and quantum physical system is not Euclidean like the world around us, like this rectilinear structure. It's more sinusoidal structure. We should take this into account."
      ]
    },
    {
      "cell_type": "markdown",
      "metadata": {
        "id": "KUW0xEZE-DKE"
      },
      "source": [
        "![ggg](https://raw.githubusercontent.com/deltorobarba/repo/master/quantum_193.png)"
      ]
    },
    {
      "cell_type": "markdown",
      "metadata": {
        "id": "EsCQoAwa_dCk"
      },
      "source": [
        "<font color=\"blue\">**Barren Plateau**"
      ]
    },
    {
      "cell_type": "markdown",
      "metadata": {
        "id": "RsYaUoUB_fTp"
      },
      "source": [
        "* There are parts of the optimization landscape where the gradient is zero, and around it also zero, like in classical deep learning. everything flat in every direction where you go.\n",
        "\n",
        "* Barren Plateau can come from number of different effects: choice from circuit ansatz, choice of parametrization (parameter values), or from cost function\n",
        "\n",
        "* several proposals to overcome this"
      ]
    },
    {
      "cell_type": "markdown",
      "metadata": {
        "id": "LCtDJttj_aka"
      },
      "source": [
        "![ggg](https://raw.githubusercontent.com/deltorobarba/repo/master/quantum_194.png)"
      ]
    },
    {
      "cell_type": "markdown",
      "source": [
        "*Cirq*"
      ],
      "metadata": {
        "id": "wjgKrqlN0xl_"
      }
    },
    {
      "cell_type": "markdown",
      "source": [
        "https://quantumai.google/cirq/tutorials/variational_algorithm"
      ],
      "metadata": {
        "id": "zLHMylh62UBg"
      }
    },
    {
      "cell_type": "code",
      "source": [
        "import cirq\n",
        "\n",
        "# define the length and width of the grid.\n",
        "length = 3\n",
        "\n",
        "# define qubits on the grid.\n",
        "qubits = cirq.GridQubit.square(length)\n",
        "\n",
        "print(qubits)"
      ],
      "metadata": {
        "colab": {
          "base_uri": "https://localhost:8080/"
        },
        "id": "IQ4_O_fM01-j",
        "outputId": "70ee3e08-79d7-4ec9-efd3-4be9fe0b896d"
      },
      "execution_count": null,
      "outputs": [
        {
          "output_type": "stream",
          "name": "stdout",
          "text": [
            "[cirq.GridQubit(0, 0), cirq.GridQubit(0, 1), cirq.GridQubit(0, 2), cirq.GridQubit(1, 0), cirq.GridQubit(1, 1), cirq.GridQubit(1, 2), cirq.GridQubit(2, 0), cirq.GridQubit(2, 1), cirq.GridQubit(2, 2)]\n"
          ]
        }
      ]
    },
    {
      "cell_type": "markdown",
      "source": [
        "Now that we have some qubits, let us construct a cirq.Circuit on these qubits. For example, suppose we want to apply the Hadamard gate cirq.H to every qubit whose row index plus column index is even, and an cirq.X gate to every qubit whose row index plus column index is odd. To do this, we write:"
      ],
      "metadata": {
        "id": "ZaeFcRnX1Pg7"
      }
    },
    {
      "cell_type": "code",
      "source": [
        "circuit = cirq.Circuit()\n",
        "circuit.append(cirq.H(q) for q in qubits if (q.row + q.col) % 2 == 0)\n",
        "circuit.append(cirq.X(q) for q in qubits if (q.row + q.col) % 2 == 1)\n",
        "\n",
        "print(circuit)"
      ],
      "metadata": {
        "colab": {
          "base_uri": "https://localhost:8080/"
        },
        "id": "8EV2UfP21Mn0",
        "outputId": "f390f38a-f7e7-4b17-d8d7-8e67155562ee"
      },
      "execution_count": null,
      "outputs": [
        {
          "output_type": "stream",
          "name": "stdout",
          "text": [
            "(0, 0): ───H───\n",
            "\n",
            "(0, 1): ───X───\n",
            "\n",
            "(0, 2): ───H───\n",
            "\n",
            "(1, 0): ───X───\n",
            "\n",
            "(1, 1): ───H───\n",
            "\n",
            "(1, 2): ───X───\n",
            "\n",
            "(2, 0): ───H───\n",
            "\n",
            "(2, 1): ───X───\n",
            "\n",
            "(2, 2): ───H───\n"
          ]
        }
      ]
    },
    {
      "cell_type": "code",
      "source": [
        "def rot_x_layer(length, half_turns):\n",
        "    \"\"\"Yields X rotations by half_turns on a square grid of given length.\"\"\"\n",
        "\n",
        "    # Define the gate once and then re-use it for each Operation.\n",
        "    rot = cirq.XPowGate(exponent=half_turns)\n",
        "\n",
        "    # Create an X rotation Operation for each qubit in the grid.\n",
        "    for i in range(length):\n",
        "        for j in range(length):\n",
        "            yield rot(cirq.GridQubit(i, j))\n",
        "\n",
        "# Create the circuit using the rot_x_layer generator\n",
        "circuit = cirq.Circuit()\n",
        "circuit.append(rot_x_layer(2, 0.1))\n",
        "print(circuit)"
      ],
      "metadata": {
        "colab": {
          "base_uri": "https://localhost:8080/"
        },
        "id": "Xb8U8mTp1wl9",
        "outputId": "df16806c-213b-4d57-caf6-3e4b5af6618d"
      },
      "execution_count": null,
      "outputs": [
        {
          "output_type": "stream",
          "name": "stdout",
          "text": [
            "(0, 0): ───X^0.1───\n",
            "\n",
            "(0, 1): ───X^0.1───\n",
            "\n",
            "(1, 0): ───X^0.1───\n",
            "\n",
            "(1, 1): ───X^0.1───\n"
          ]
        }
      ]
    },
    {
      "cell_type": "markdown",
      "metadata": {
        "id": "xuegbFg8qqCU"
      },
      "source": [
        "*Step by Step Algorithm*"
      ]
    },
    {
      "cell_type": "markdown",
      "metadata": {
        "id": "JQNT6fAsrO0r"
      },
      "source": [
        "This algorithm is a **hybrid machine learning quantum computer algorithm**, where we run part of it on a quantum computer, and then finish off the minimization classically (since a solely quantum algorithm provides no speedups)."
      ]
    },
    {
      "cell_type": "markdown",
      "metadata": {
        "id": "_yL7QqWarSsW"
      },
      "source": [
        "**Step 1: We encode the molecular Hamiltonian onto the qubits**\n",
        "\n",
        "* the variational form typically uses the U3 gate (QASM?), where we can describe it with the following matrix:\n",
        "\n",
        "> $U 3(\\theta, \\phi, \\lambda)=\\left(\\begin{array}{cc}\\cos \\left(\\frac{\\theta}{2}\\right) & -e^{i \\lambda} \\sin \\left(\\frac{\\theta}{2}\\right) \\\\ e^{i \\phi} \\sin \\left(\\frac{\\theta}{2}\\right) & e^{i \\lambda+i \\phi} \\cos \\left(\\frac{\\theta}{2}\\right)\\end{array}\\right)$\n",
        "\n",
        "* We can then construct a quantum circuit that encodes the information that we want, but it is important that this circuit (and these gates as a whole) allow for any universal state to be entered and returned, which can result in more complex circuits.\n",
        "\n",
        "* The end result of this encoding allows us to make calculations with the qubits, but now the qubits are mimicking the electron orbital interactions and so it almost as if we are making the computations we need with the molecule itself.\n",
        "\n"
      ]
    },
    {
      "cell_type": "markdown",
      "metadata": {
        "id": "I8S6PMkovUxH"
      },
      "source": [
        "![ggg](https://raw.githubusercontent.com/deltorobarba/repo/master/quantum_181.png)"
      ]
    },
    {
      "cell_type": "markdown",
      "metadata": {
        "id": "swsm2b2ztk9r"
      },
      "source": [
        "**Step 2: Create the ansatz**\n",
        "\n",
        "* An ansatz, in simplest terms, is a really good mathematical guess that can cover many possible states.\n",
        "\n",
        "* For our purposes, the thing that we will be guessing will be what the electron configuration is for the specific molecule at a given interatomic distance between each atom and thus the ansatz can be described as our trial wavefunction.\n",
        "\n",
        "* We also require that the ansatz be shallow due to the nature of programs on quantum computers needing to run quickly or else they’ll be more prone to errors.\n",
        "\n",
        "> In the context of variational circuits, an ansatz usually describes a subroutine consisting of a sequence of gates applied to specific wires. Similar to the architecture of a neural network, this only defines the base structure, while the types of gates and/or their free parameters can be optimized by the variational procedure. **One can distinguish three different base structures, namely a layered gate ansatz, an alternating operator ansatz, and a tensor network ansatz.**\n",
        "\n",
        "https://pennylane.ai/qml/glossary/circuit_ansatz.html\n",
        "\n",
        "https://medium.com/arnaldo-gunzi-quantum/what-is-ansatz-31e682b0518b\n"
      ]
    },
    {
      "cell_type": "markdown",
      "metadata": {
        "id": "HCaKqCT-vEGe"
      },
      "source": [
        "![ggg](https://raw.githubusercontent.com/deltorobarba/repo/master/quantum_183.png)"
      ]
    },
    {
      "cell_type": "markdown",
      "metadata": {
        "id": "ROfDmrTwuknz"
      },
      "source": [
        "**Step 3: Calculate our trial state energy**\n",
        "\n",
        "* use the information that we have to calculate the ground state energy level of our ansatz.\n",
        "\n",
        "* The calculation uses the information given by the Hamiltonian for a given inter-atomic distance, and the energy for that particular electron configuration."
      ]
    },
    {
      "cell_type": "markdown",
      "metadata": {
        "id": "MHVkMC1My38d"
      },
      "source": [
        "**Step 4: The Classical Side**"
      ]
    },
    {
      "cell_type": "markdown",
      "metadata": {
        "id": "yX67IiQJvfM3"
      },
      "source": [
        "> Task a: Measure and optimize our parameter\n",
        "\n",
        "* The first step here is to measure our qubits such that we get the information that we wanted from the quantum steps.\n",
        "\n",
        "* We then use machine learning algorithms to optimize our parameters such that our cost function, which represents the ground state energy, is minimized.\n",
        "\n",
        "* In terms of the optimization, the [Simultaneous Perturbation Stochastic Approximation optimizer (SPSA)](https://en.m.wikipedia.org/wiki/Simultaneous_perturbation_stochastic_approximation) is typically used due to how noisy the objective function can be. One thing that we had considered using during our experimentation with the VQE algorithm was gradient descent.\n",
        "\n",
        "* We noticed that our original code was just an iteration over the possible values that the inter-atomic distance could take and we thought that gradient descent might be able to speed this process up by just choosing a good start value.\n",
        "\n",
        "* However, what we found was that this strategy was prone to getting stuck in local optimum and through the reading of the Qiskit textbook and other research papers, we found that it is in fact a costly optimization in terms of the number of circuit evaluations performed.\n",
        "\n",
        "* So then we questioned how does SPSA work and why does it not have the same pitfalls as gradient descent? They both share the similarity that both optimizes approximate the gradient of our cost function, however, SPSA “does so by concurrently perturbing all of the parameters in a random fashion, in contrast to gradient descent where each parameter is perturbed independently” as discussed in the Qiskit textbook tutorial.\n",
        "\n"
      ]
    },
    {
      "cell_type": "markdown",
      "metadata": {
        "id": "eUGLzvpNy2LQ"
      },
      "source": [
        "> Task b: Iterate using the resulting parameters\n",
        "\n",
        "* The second step of the classical side of this algorithm is that we then take the optimized parameters that we got and feed them into the quantum part again, giving us a new set of parameters that should improve the ansatz.\n",
        "\n",
        "* This step is iterative because we continually run through out optimizer until we are able to converge onto the lowest energy state for that bond length.\n",
        "\n",
        "* We then continue to iterate over the different inter-atomic distances until we find the bond length associated with the molecule’s lowest energy state.\n"
      ]
    },
    {
      "cell_type": "markdown",
      "metadata": {
        "id": "ij6uyKbEzCQz"
      },
      "source": [
        "*Results of VQE on RbH where Hartree-Fock is the expected and VQE is what we got from running the algorithm:*\n",
        "\n",
        "![ggg](https://raw.githubusercontent.com/deltorobarba/repo/master/quantum_184.png)"
      ]
    },
    {
      "cell_type": "markdown",
      "metadata": {
        "id": "a1wmnPpx24He"
      },
      "source": [
        "![ggg](https://raw.githubusercontent.com/deltorobarba/repo/master/quantum_185.png)"
      ]
    },
    {
      "cell_type": "markdown",
      "metadata": {
        "id": "PrQOSeWn3Owt"
      },
      "source": [
        "Source: [Variational Quantum Algorithms](https://www.youtube.com/watch?v=YtepXvx5zdI)"
      ]
    },
    {
      "cell_type": "markdown",
      "source": [
        "*1. Build the molecular (electronic) Hamiltonian using a minimal basis set approximation*"
      ],
      "metadata": {
        "id": "XZjV1v3A9UtY"
      }
    },
    {
      "cell_type": "markdown",
      "source": [
        "*Electronic Hamiltonian: clamped nucleus Hamiltonian that acts only on functions of the electronic coordinates.*\n",
        "\n",
        "* *Almost all calculations of molecular wavefunctions are based on the separation of the Coulomb Hamiltonian first devised by Born and Oppenheimer.*\n",
        "\n",
        "* *The nuclear kinetic energy terms are omitted from the Coulomb Hamiltonian and one considers the remaining Hamiltonian as a Hamiltonian of electrons only.*\n",
        "\n",
        "* *The stationary nuclei enter the problem only as generators of an electric potential in which the electrons move in a quantum mechanical way.*\n",
        "\n",
        "* *Within this framework the molecular Hamiltonian has been simplified to the so-called clamped nucleus Hamiltonian, also called electronic Hamiltonian, that acts only on functions of the electronic coordinates.*\n",
        "\n",
        "* *Once the Schrödinger equation of the clamped nucleus Hamiltonian has been solved for a sufficient number of constellations of the nuclei, an appropriate eigenvalue (usually the lowest) can be seen as a function of the nuclear coordinates, which leads to a potential energy surface.*\n",
        "\n",
        "* *Source:* [*Molecular Hamiltonian*](https://en.m.wikipedia.org/wiki/Molecular_Hamiltonian)"
      ],
      "metadata": {
        "id": "Zo5gf82vpbnt"
      }
    },
    {
      "cell_type": "markdown",
      "source": [
        "*The first step is to specify the molecule we want to simulate. This is done by providing a list with the symbols of the constituent atoms and a one-dimensional array with the corresponding **nuclear coordinates** in [(Hartree) atomic units](https://en.m.wikipedia.org/wiki/Hartree_atomic_units):*\n",
        "\n",
        "* *the mass of a nuclear is so much greater than the mass of an electron, we set the nuclei as fixed, or the kinetic energy of the nuclei are zero (1 proton weighs about 1,800 times more than a single electron, and mist nuclei are even heavier than hydrogen nuclei, i.e. Carbon nucleus is 20,000 times heavier than an electron). We're going to solve of the wavefunction of the electrons at a fixed position of the nuclei.*\n",
        "\n",
        "```python\n",
        "from pennylane import numpy as np\n",
        "symbols = [\"H\", \"H\"]\n",
        "coordinates = np.array([0.0, 0.0, -0.6614, 0.0, 0.0, 0.6614])\n",
        "```\n",
        "\n",
        "* *(not sure if that's helpful here: https://en.m.wikipedia.org/wiki/Born–Oppenheimer_approximation)*\n",
        "\n",
        "* https://en.wikipedia.org/wiki/Franck%E2%80%93Condon_principle\n",
        "\n",
        "* *When approaching to a few atomic units, the atomic wavefunctions are overlapping (1 atomic unit = 0.5292 Angstrom). The bond-length of the hydrogen atom in the ground state is 0.74 Angstrom = 1.4 atomic units.* ([Uni Kassel](https://www.uni-kassel.de/fb10/institute/physik/forschungsgruppen/oberflaechenphysik/quantum-analogs/molecular-orbitals))"
      ],
      "metadata": {
        "id": "oFIJVbgZ9bOQ"
      }
    },
    {
      "cell_type": "markdown",
      "source": [
        "*The molecular structure can also be imported from an external file using the read_structure() function. Now, we can build the electronic Hamiltonian of the hydrogen molecule using the molecular_hamiltonian() function:*\n",
        "\n",
        "```python\n",
        "import pennylane as qml\n",
        "\n",
        "H, qubits = qml.qchem.molecular_hamiltonian(symbols, coordinates)\n",
        "print(\"Number of qubits = \", qubits)\n",
        "print(\"The Hamiltonian is \", H)\n",
        "```"
      ],
      "metadata": {
        "id": "2E057QQi9d75"
      }
    },
    {
      "cell_type": "markdown",
      "source": [
        "See also video: [Quantum Chemistry 10.1 - Hydrogen Molecule Hamiltonian](https://www.youtube.com/watch?v=BBoE6NRRZ8k)"
      ],
      "metadata": {
        "id": "7gltlLeaiISO"
      }
    },
    {
      "cell_type": "markdown",
      "source": [
        "https://www.youtube.com/watch?v=5kUstS6xD2c&list=PLm8ZSArAXicLZWxTcr_XWOjrysKAlOZH2"
      ],
      "metadata": {
        "id": "08RZ3LgmkFCb"
      }
    },
    {
      "cell_type": "markdown",
      "source": [
        "*The outputs of the function are the **Hamiltonian, represented as a linear combination of Pauli operators**, and the number of qubits required for the quantum simulations:*\n",
        "\n",
        "```python\n",
        "Number of qubits =  4\n",
        "The Hamiltonian is    (-0.2427450172749822) [Z2]\n",
        "+ (-0.2427450172749822) [Z3]\n",
        "+ (-0.04207254303152995) [I0]\n",
        "+ (0.17771358191549907) [Z0]\n",
        "+ (0.17771358191549919) [Z1]\n",
        "+ (0.12293330460167415) [Z0 Z2]\n",
        "+ (0.12293330460167415) [Z1 Z3]\n",
        "+ (0.16768338881432715) [Z0 Z3]\n",
        "+ (0.16768338881432715) [Z1 Z2]\n",
        "+ (0.17059759240560826) [Z0 Z1]\n",
        "+ (0.17627661476093917) [Z2 Z3]\n",
        "+ (-0.04475008421265302) [Y0 Y1 X2 X3]\n",
        "+ (-0.04475008421265302) [X0 X1 Y2 Y3]\n",
        "+ (0.04475008421265302) [Y0 X1 X2 Y3]\n",
        "+ (0.04475008421265302) [X0 Y1 Y2 X3]\n",
        "```"
      ],
      "metadata": {
        "id": "UWa5Pb_F9vnI"
      }
    },
    {
      "cell_type": "markdown",
      "source": [
        "* We express the Hamiltonian as a linear combination of Pauli operators\n",
        "\n",
        "> $\\mathcal{H}=\\sum_{i \\alpha} h_{\\alpha}^{i} \\sigma_{\\alpha}^{i}+\\sum_{i j \\alpha \\beta} h_{\\alpha \\beta}^{i j} \\sigma_{\\alpha}^{i} \\sigma_{\\beta}^{j}+\\ldots$\n",
        "\n",
        "> $\\langle\\mathcal{H}\\rangle=\\sum_{i \\alpha} h_{\\alpha}^{i}\\left\\langle\\sigma_{\\alpha}^{i}\\right\\rangle+\\sum_{i j \\alpha \\beta} h_{\\alpha \\beta}^{i j}\\left\\langle\\sigma_{\\alpha}^{i} \\sigma_{\\beta}^{j}\\right\\rangle+\\ldots$\n",
        "\n",
        "* We assume that the number of terms in that expansion is small, growing only polynomial in the system size\n",
        "\n",
        "* That’s necessary because what you‘re going to do in order to evaluate the expectation value for the Hamiltonian is you gonna do that term by term, where you evaluate the expectation value of each individual Pauli operator on the quantum computer, then you classically sum them up with the appropriate weight"
      ],
      "metadata": {
        "id": "9cvgpCyLiuQT"
      }
    },
    {
      "cell_type": "markdown",
      "source": [
        "*For this example, we use a [minimal basis set](https://de.m.wikipedia.org/wiki/STO-NG-Basissätze) to represent the [molecular orbitals](https://en.m.wikipedia.org/wiki/Molecular_orbital).*\n",
        "\n",
        "* *In this approximation, we have four spin orbitals, which defines the number of qubits.*\n",
        "\n",
        "* *Furthermore, we use the Jordan-Wigner transformation to perform the fermionic-to-qubit mapping of the Hamiltonian.*\n",
        "\n",
        "* *For a more comprehensive discussion on how to build the Hamiltonian of more complicated molecules, see the tutorial [Building molecular Hamiltonians](https://pennylane.ai/qml/demos/tutorial_quantum_chemistry.html).*"
      ],
      "metadata": {
        "id": "NygNQwTx-CUC"
      }
    },
    {
      "cell_type": "markdown",
      "source": [
        "<font color=\"red\">Are these the atomic coordinates in Cartesian coordinates? https://en.m.wikipedia.org/wiki/XYZ_file_format"
      ],
      "metadata": {
        "id": "tjq91NuTgtBf"
      }
    },
    {
      "cell_type": "markdown",
      "source": [
        "*2. Quantum circuit to prepare trial state of molecule, design cost function & measure expectation value of Hamiltonian*"
      ],
      "metadata": {
        "id": "cmZCm3nZ-u8S"
      }
    },
    {
      "cell_type": "markdown",
      "source": [
        "*The quantum computer sets up the quantum wavefunction: it starts with qubits in some vaccum state and then rotates the qubits, then entangles them, essentially obtains the sum (trial) wave function and then (next step) measures the Hamiltonian expectation value on this wavefunction*"
      ],
      "metadata": {
        "id": "Zy4kA11ZoE-8"
      }
    },
    {
      "cell_type": "markdown",
      "source": [
        "* *You first prepare a guess for that ground state, and then you measure the invidual terms of the Hamiltonian and then you sum them up classically and then you have a classical feedback loop where you adjust the parameters of the gate sequence and you feed the new parameters to the quantum computer which then repeats the loop over and over again*\n",
        "\n",
        "* *The end result is that you‘ve prepared a state that even closer to the ground state than your original guess*"
      ],
      "metadata": {
        "id": "lNI_YCWUjBsz"
      }
    },
    {
      "cell_type": "markdown",
      "source": [
        "*Define the device, in this case PennyLane’s standard qubit simulator:*\n",
        "\n",
        "```python\n",
        "dev = qml.device(\"default.qubit\", wires=qubits)\n",
        "```"
      ],
      "metadata": {
        "id": "lJgLsTDMAoT0"
      }
    },
    {
      "cell_type": "markdown",
      "source": [
        "*Next, define the quantum circuit that prepares the trial state of the molecule. We want to prepare states of the form:*\n",
        "\n",
        "> <font color=\"blue\">$|\\Psi(\\theta)\\rangle=\\cos (\\frac{\\theta}{2})|1100\\rangle-\\sin (\\frac{\\theta}{2})|0011\\rangle$\n",
        "\n",
        "*where $\\theta$ is the variational parameter to be optimized in order to find the best approximation to the true ground state.*\n",
        "\n",
        "*In the [Jordan-Wigner encoding (transformation)](https://de.m.wikipedia.org/wiki/Jordan-Wigner-Transformation)*\n",
        "\n",
        "  * *the first term |1100⟩ represents the [Hartree-Fock (HF) state](https://en.wikipedia.org/wiki/Hartree–Fock_method) where the two electrons in the molecule occupy the lowest-energy orbitals.*\n",
        "  \n",
        "  * *the second term |0011⟩ encodes a double excitation of the HF state where the two particles are excited from qubits 0, 1 to 2, 3*"
      ],
      "metadata": {
        "id": "QBGhWWW2Az6j"
      }
    },
    {
      "cell_type": "markdown",
      "source": [
        "*The quantum circuit to prepare the trial state $|\\Psi (\\theta) \\rangle$ is schematically illustrated in the figure below:*\n",
        "\n",
        "![ggg](https://raw.githubusercontent.com/deltorobarba/repo/master/quantum_304.png)"
      ],
      "metadata": {
        "id": "I2zfsEmwCSVC"
      }
    },
    {
      "cell_type": "markdown",
      "source": [
        "* *In this figure, the gate $G^{(2)}$ corresponds to the DoubleExcitation operation, implemented in PennyLane as a Givens rotation, which couples the four-qubit states |1100⟩ and |0011⟩.*\n",
        "\n",
        "* *For more details on how to use the excitation operations to build quantum circuits for quantum chemistry applications see the tutorial [Givens rotations for quantum chemistry](https://pennylane.ai/qml/demos/tutorial_givens_rotations.html).*"
      ],
      "metadata": {
        "id": "Y93ZggV4DLUM"
      }
    },
    {
      "cell_type": "markdown",
      "source": [
        "*Implementing the circuit above using PennyLane is straightforward. First, we use the hf_state() function to generate the vector representing the Hartree-Fock state.*\n",
        "\n",
        "```python\n",
        "electrons = 2\n",
        "hf = qml.qchem.hf_state(electrons, qubits)\n",
        "print(hf)\n",
        "```\n",
        "\n",
        "*The output is then:*\n",
        "\n",
        "```python\n",
        "[1 1 0 0]\n",
        "```\n",
        "\n",
        "*The hf array is used by the BasisState operation to initialize the qubit register.*\n",
        "\n",
        "*Then, we just act with the DoubleExcitation operation on the four qubits:*\n",
        "\n",
        "```python\n",
        "def circuit(param, wires):\n",
        "    qml.BasisState(hf, wires=wires)\n",
        "    qml.DoubleExcitation(param, wires=[0, 1, 2, 3])\n",
        "```"
      ],
      "metadata": {
        "id": "MpEZsA2JDiKh"
      }
    },
    {
      "cell_type": "markdown",
      "source": [
        "**Design the cost function to evaluate the expectation value of the Hamiltonian**"
      ],
      "metadata": {
        "id": "U0tw47_GC_bC"
      }
    },
    {
      "cell_type": "markdown",
      "source": [
        "*Measure the Hamiltonian expectation value on the (trial) wavefunction*\n",
        "\n",
        "* *Define the cost function to compute the expectation value of the molecular Hamiltonian in the trial state prepared by the circuit.*\n",
        "\n",
        "* *We do this using the expval() function. The decorator syntax allows us to run the cost function as an executable QNode with the gate parameter $\\theta$:*\n",
        "\n",
        "```python\n",
        "@qml.qnode(dev)\n",
        "def cost_fn(param):\n",
        "    circuit(param, wires=range(qubits))\n",
        "    return qml.expval(H)\n",
        "```"
      ],
      "metadata": {
        "id": "QuczJ6aOD4af"
      }
    },
    {
      "cell_type": "markdown",
      "source": [
        "*3. Select a classical optimizer, initialize the circuit parameters, and run the VQE algorithm using a simulator.*"
      ],
      "metadata": {
        "id": "VSeiR7bE-02t"
      }
    },
    {
      "cell_type": "markdown",
      "source": [
        "* *The result of the expectation value is passed to the classical computer which tries to come up with new angles of the unitary rotations so that on the next iteration we could lower the expectation value even more:*\n",
        "\n",
        "> $\\min _{\\theta}<\\Phi_{q}(\\theta)\\left|H_{q}\\right| \\Phi_{q}(\\theta)>$\n",
        "\n",
        "* *The classical computer gives to the quantum computer a new trial wave function that the quantum computer needs to implement and obtain the expectation value*\n",
        "\n",
        "* *This cyle repeats and eventually the classical computer will converge to some value that will be the lowest*"
      ],
      "metadata": {
        "id": "XEMsdXsxk4QW"
      }
    },
    {
      "cell_type": "markdown",
      "source": [
        "*Now we proceed to minimize the cost function to find the ground state of the $H_2$ molecule. To start, we need to define the classical optimizer. PennyLane offers many different built-in optimizers. Here we use a basic gradient-descent optimizer.*\n",
        "\n",
        "```python\n",
        "opt = qml.GradientDescentOptimizer(stepsize=0.4)\n",
        "```"
      ],
      "metadata": {
        "id": "10F3uTCLEIZr"
      }
    },
    {
      "cell_type": "markdown",
      "source": [
        "*We carry out the optimization over a maximum of 100 steps aiming to reach a convergence tolerance of $10^{-6}$ for the value of the cost function:*\n",
        "\n",
        "```python\n",
        "# store the values of the cost function\n",
        "energy = [cost_fn(theta)]\n",
        "\n",
        "# store the values of the circuit parameter\n",
        "angle = [theta]\n",
        "\n",
        "max_iterations = 100\n",
        "conv_tol = 1e-06\n",
        "\n",
        "for n in range(max_iterations):\n",
        "    theta, prev_energy = opt.step_and_cost(cost_fn, theta)\n",
        "\n",
        "    energy.append(cost_fn(theta))\n",
        "    angle.append(theta)\n",
        "\n",
        "    conv = np.abs(energy[-1] - prev_energy)\n",
        "\n",
        "    if n % 2 == 0:\n",
        "        print(f\"Step = {n},  Energy = {energy[-1]:.8f} Ha\")\n",
        "\n",
        "    if conv <= conv_tol:\n",
        "        break\n",
        "\n",
        "print(\"\\n\" f\"Final value of the ground-state energy = {energy[-1]:.8f} Ha\")\n",
        "print(\"\\n\" f\"Optimal value of the circuit parameter = {angle[-1]:.4f}\")\n",
        "```"
      ],
      "metadata": {
        "id": "9vWDXUuoEVAs"
      }
    },
    {
      "cell_type": "markdown",
      "source": [
        "*The output is then:*\n",
        "\n",
        "```python\n",
        "Step = 0,  Energy = -1.12799983 Ha\n",
        "Step = 2,  Energy = -1.13466246 Ha\n",
        "Step = 4,  Energy = -1.13590595 Ha\n",
        "Step = 6,  Energy = -1.13613667 Ha\n",
        "Step = 8,  Energy = -1.13617944 Ha\n",
        "Step = 10,  Energy = -1.13618736 Ha\n",
        "Step = 12,  Energy = -1.13618883 Ha\n",
        "\n",
        "Final value of the ground-state energy = -1.13618883 Ha\n",
        "\n",
        "Optimal value of the circuit parameter = 0.2089\n",
        "```"
      ],
      "metadata": {
        "id": "O1Rtq-tGErGQ"
      }
    },
    {
      "cell_type": "markdown",
      "source": [
        "*Let’s plot the values of the ground state energy of the molecule and the gate parameter $\\theta$ as a function of the optimization step:*\n",
        "\n",
        "```python\n",
        "import matplotlib.pyplot as plt\n",
        "\n",
        "fig = plt.figure()\n",
        "fig.set_figheight(5)\n",
        "fig.set_figwidth(12)\n",
        "\n",
        "# Full configuration interaction (FCI) energy computed classically\n",
        "E_fci = -1.136189454088\n",
        "\n",
        "# Add energy plot on column 1\n",
        "ax1 = fig.add_subplot(121)\n",
        "ax1.plot(range(n + 2), energy, \"go\", ls=\"dashed\")\n",
        "ax1.plot(range(n + 2), np.full(n + 2, E_fci), color=\"red\")\n",
        "ax1.set_xlabel(\"Optimization step\", fontsize=13)\n",
        "ax1.set_ylabel(\"Energy (Hartree)\", fontsize=13)\n",
        "ax1.text(0.5, -1.1176, r\"$E_\\mathrm{HF}$\", fontsize=15)\n",
        "ax1.text(0, -1.1357, r\"$E_\\mathrm{FCI}$\", fontsize=15)\n",
        "plt.xticks(fontsize=12)\n",
        "plt.yticks(fontsize=12)\n",
        "\n",
        "# Add angle plot on column 2\n",
        "ax2 = fig.add_subplot(122)\n",
        "ax2.plot(range(n + 2), angle, \"go\", ls=\"dashed\")\n",
        "ax2.set_xlabel(\"Optimization step\", fontsize=13)\n",
        "ax2.set_ylabel(\"Gate parameter $\\\\theta$ (rad)\", fontsize=13)\n",
        "plt.xticks(fontsize=12)\n",
        "plt.yticks(fontsize=12)\n",
        "\n",
        "plt.subplots_adjust(wspace=0.3, bottom=0.2)\n",
        "plt.show()\n",
        "```"
      ],
      "metadata": {
        "id": "pvLNvzHgFCsB"
      }
    },
    {
      "cell_type": "markdown",
      "source": [
        "![ggg](https://raw.githubusercontent.com/deltorobarba/repo/master/quantum_305.png)"
      ],
      "metadata": {
        "id": "Dx07o-zSE-mA"
      }
    },
    {
      "cell_type": "markdown",
      "source": [
        "*Remember in step 2 the trial state was:*\n",
        "\n",
        "> <font color=\"blue\">$|\\Psi(\\theta)\\rangle=\\cos (\\frac{\\theta}{2})|1100\\rangle-\\sin (\\frac{\\theta}{2})|0011\\rangle$\n",
        "\n",
        "*We measured now $\\theta$ = 0.2089. This gives us:*\n",
        "\n",
        "* $cos (\\frac{\\theta}{2})$ = $cos (\\frac{0.2089}{2})$ = <font color=\"red\">0.994550</font>\n",
        "\n",
        "* $sin (\\frac{\\theta}{2})$ = $sin (\\frac{0.2089}{2})$ = <font color=\"orange\">0.104260</font>"
      ],
      "metadata": {
        "id": "wOHXN18MIZb-"
      }
    },
    {
      "cell_type": "markdown",
      "source": [
        "*In this case, the VQE algorithm converges after thirteen iterations. The optimal value of the circuit parameter $\\theta^*$ = 0.208 defines the state:*\n",
        "\n",
        "> <font color=\"blue\">$\\left|\\Psi\\left(\\theta^{*}\\right)\\right\\rangle=$</font> <font color=\"red\">$0.994$</font> <font color=\"blue\">$|1100\\rangle-$ <font color=\"orange\">$0.104$</font><font color=\"blue\">$|0011\\rangle$\n",
        "\n",
        "*which is precisely the ground state of the $H_2$ molecule in a minimal basis set approximation.*\n",
        "\n"
      ],
      "metadata": {
        "id": "Wots26SWFPWC"
      }
    },
    {
      "cell_type": "markdown",
      "source": [
        "Remember: In the Jordan-Wigner encoding (transformation)\n",
        "\n",
        "* the first term |1100⟩ represents the Hartree-Fock (HF) state where the two electrons in the molecule occupy the lowest-energy orbitals.\n",
        "\n",
        "* the second term |0011⟩ encodes a double excitation of the HF state where the two particles are excited from qubits 0, 1 to 2, 3"
      ],
      "metadata": {
        "id": "r8HPQ4OQYYkg"
      }
    },
    {
      "cell_type": "markdown",
      "source": [
        "*Conclusion*"
      ],
      "metadata": {
        "id": "tJ1OtOUIG3h9"
      }
    },
    {
      "cell_type": "markdown",
      "source": [
        "*In this tutorial, we have implemented the VQE algorithm to find the ground state of the hydrogen molecule. We used a simple circuit to prepare quantum states of the molecule beyond the Hartree-Fock approximation. The ground-state energy was obtained by minimizing a cost function defined as the expectation value of the molecular Hamiltonian in the trial state.*\n",
        "\n",
        "*The VQE algorithm can be used to simulate other chemical phenomena. In the tutorial tutorial_vqe_bond_dissociation, we use VQE to explore the potential energy surface of molecules to simulate chemical reactions. Another interesting application is to probe the lowest-lying states of molecules in specific sectors of the Hilbert space. For example, see the tutorial [VQE in different spin sectors](https://pennylane.ai/qml/demos/tutorial_vqe_spin_sectors.html). Furthermore, the algorithm presented here can be generalized to find the equilibrium geometry of a molecule as it is demonstrated in the tutorial [Optimization of molecular geometries](https://pennylane.ai/qml/demos/tutorial_mol_geo_opt.html).*\n",
        "\n"
      ],
      "metadata": {
        "id": "2TeaTcy6G4uM"
      }
    },
    {
      "cell_type": "markdown",
      "source": [
        "*Variational quantum-neural hybrid eigensolver (VQNHE)*"
      ],
      "metadata": {
        "id": "lcs4JpYP6mS_"
      }
    },
    {
      "cell_type": "markdown",
      "source": [
        "https://arxiv.org/abs/2106.05105"
      ],
      "metadata": {
        "id": "IZZAl1Bd6sA-"
      }
    },
    {
      "cell_type": "markdown",
      "source": [
        "*QAOA (Quantum Approximate Optimization Algorithm)*"
      ],
      "metadata": {
        "id": "yChG8voKEFhh"
      }
    },
    {
      "cell_type": "markdown",
      "metadata": {
        "id": "4vSAIR_g3JdX"
      },
      "source": [
        "https://qiskit.org/textbook/ch-applications/qaoa.html"
      ]
    },
    {
      "cell_type": "markdown",
      "metadata": {
        "id": "-xfofKFn3LzE"
      },
      "source": [
        "https://en.wikipedia.org/wiki/Quantum_optimization_algorithms"
      ]
    },
    {
      "cell_type": "markdown",
      "metadata": {
        "id": "n85uDMl23mUh"
      },
      "source": [
        "* the cost function is something that is encoding an optimization problem. you might have an (discrete) optimization problem with many clauses that have to be satisfied and you have to encode this into an Ising type model, a spin chain type model, which then can be converted into observables which can be measured on a quantum circuit"
      ]
    },
    {
      "cell_type": "markdown",
      "metadata": {
        "id": "_cOUcljX2_At"
      },
      "source": [
        "![ggg](https://raw.githubusercontent.com/deltorobarba/repo/master/quantum_186.png)"
      ]
    },
    {
      "cell_type": "markdown",
      "metadata": {
        "id": "mPcjYwbm3S4h"
      },
      "source": [
        "Source: [Variational Quantum Algorithms](https://www.youtube.com/watch?v=YtepXvx5zdI)"
      ]
    }
  ]
}