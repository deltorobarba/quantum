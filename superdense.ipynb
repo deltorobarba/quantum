{
  "nbformat": 4,
  "nbformat_minor": 0,
  "metadata": {
    "colab": {
      "provenance": [],
      "collapsed_sections": [
        "kFsEBZ9lRojQ",
        "NK9YupxAozfU",
        "JKPZ3BgSWGpA",
        "FVj3KAarTD-3",
        "_ywvnMs4ZFF1",
        "0PxxdWgbvw3i",
        "D_tjP2YmUlaa",
        "m91tJ3W3vi7a"
      ],
      "include_colab_link": true
    },
    "kernelspec": {
      "name": "python3",
      "display_name": "Python 3"
    },
    "language_info": {
      "name": "python"
    }
  },
  "cells": [
    {
      "cell_type": "markdown",
      "metadata": {
        "id": "view-in-github",
        "colab_type": "text"
      },
      "source": [
        "<a href=\"https://colab.research.google.com/github/deltorobarba/quantum/blob/main/superdense.ipynb\" target=\"_parent\"><img src=\"https://colab.research.google.com/assets/colab-badge.svg\" alt=\"Open In Colab\"/></a>"
      ]
    },
    {
      "cell_type": "markdown",
      "source": [
        "# <font color=\"blue\">**Superdense Coding (Bell State)**"
      ],
      "metadata": {
        "id": "xEVSiuftty-3"
      }
    },
    {
      "cell_type": "markdown",
      "source": [
        "![sciences](https://raw.githubusercontent.com/deltorobarba/repo/master/sciences_0000.png)\n"
      ],
      "metadata": {
        "id": "YiqcrmGetjeG"
      }
    },
    {
      "cell_type": "markdown",
      "metadata": {
        "id": "XFxhMEfyzVCn"
      },
      "source": [
        "***Superdense Coding (Bell State): 1 Qubit - Tensor Product of two Parallel Gates (Superposition in Multiple Qubits)***"
      ]
    },
    {
      "cell_type": "code",
      "metadata": {
        "id": "EUeRMCzt8AQm"
      },
      "source": [
        "# Create Vanilla Qubits\n",
        "# Named Qubit\n",
        "a = cirq.NamedQubit(\"a\")\n",
        "b = cirq.NamedQubit(\"b\")\n",
        "\n",
        "#Line-Qubit\n",
        "qubits = cirq.LineQubit.range(2)"
      ],
      "execution_count": null,
      "outputs": []
    },
    {
      "cell_type": "markdown",
      "metadata": {
        "id": "b_44NH72uf_p"
      },
      "source": [
        "The tensor product (or Kronecker product) of two quantum gates is the gate that is equal to the two gates in parallel."
      ]
    },
    {
      "cell_type": "code",
      "metadata": {
        "id": "tK6sea6xzzpq",
        "colab": {
          "base_uri": "https://localhost:8080/"
        },
        "outputId": "e33d8d5b-b5f6-4801-9e3c-f9d099bab71a"
      },
      "source": [
        "# Define operations\n",
        "ops=[cirq.Y(a), # Superposition\n",
        "     cirq.X(b), # Entanglement\n",
        "     cirq.measure(a,b)] # Measurement\n",
        "\n",
        "# Build circuit\n",
        "circuit=cirq.Circuit(ops)\n",
        "\n",
        "print(circuit)"
      ],
      "execution_count": null,
      "outputs": [
        {
          "output_type": "stream",
          "name": "stdout",
          "text": [
            "a: ───Y───M───\n",
            "          │\n",
            "b: ───X───M───\n"
          ]
        }
      ]
    },
    {
      "cell_type": "markdown",
      "metadata": {
        "id": "Xg7C-Rrfu0ta"
      },
      "source": [
        "*Two gates $Y$ and $X$ in parallel is equivalent to the gate $Y\\otimes X$*\n",
        "\n",
        "![ggg](https://upload.wikimedia.org/wikipedia/commons/d/d5/Parallel_quantum_logic_gates.png)\n",
        "\n",
        "If we, as in the picture, combine the Pauli-Y gate with the Pauli-X gate in parallel, then this can be written as:\n",
        "\n",
        "> $C=Y \\otimes X=\\left[\\begin{array}{cc}0 & -i \\\\ i & 0\\end{array}\\right] \\otimes\\left[\\begin{array}{ll}0 & 1 \\\\ 1 & 0\\end{array}\\right]=\\left[\\begin{array}{ll}0\\left[\\begin{array}{ll}0 & 1 \\\\ 1 & 0\\end{array}\\right] & -i\\left[\\begin{array}{ll}0 & 1 \\\\ 1 & 0\\end{array}\\right] \\\\ i\\left[\\begin{array}{ll}0 & 1 \\\\ 1 & 0\\end{array}\\right] & 0\\left[\\begin{array}{ll}0 & 1 \\\\ 1 & 0\\end{array}\\right]\\end{array}\\right]=\\left[\\begin{array}{cccc}0 & 0 & 0 & -i \\\\ 0 & 0 & -i & 0 \\\\ 0 & i & 0 & 0 \\\\ i & 0 & 0 & 0\\end{array}\\right]$\n",
        "\n",
        "Both the Pauli-X and the Pauli-Y gate act on a single qubit. The resulting gate $C$ act on two qubits."
      ]
    },
    {
      "cell_type": "code",
      "metadata": {
        "id": "jvYfx3Klz9uZ",
        "colab": {
          "base_uri": "https://localhost:8080/"
        },
        "outputId": "dfcf89f5-ae06-4f5f-c592-8fb0c9a9de70"
      },
      "source": [
        "# Run Simulations & Measurements\n",
        "simulator = cirq.Simulator()\n",
        "result = simulator.run(circuit,repetitions=10)\n",
        "print('Measurement results')\n",
        "print(result)"
      ],
      "execution_count": null,
      "outputs": [
        {
          "output_type": "stream",
          "name": "stdout",
          "text": [
            "Measurement results\n",
            "a,b=1111111111, 1111111111\n"
          ]
        }
      ]
    },
    {
      "cell_type": "code",
      "metadata": {
        "id": "jd5HWgP-0BOc",
        "colab": {
          "base_uri": "https://localhost:8080/",
          "height": 295
        },
        "outputId": "1a4b69ee-bdb8-4ddd-fd21-2c841a21961e"
      },
      "source": [
        "# Visualization\n",
        "# After doing that, you should see the quantum state become ∣00⟩+∣11⟩\n",
        "_ = cirq.vis.plot_state_histogram(result) #, plt.subplot())"
      ],
      "execution_count": null,
      "outputs": [
        {
          "output_type": "display_data",
          "data": {
            "text/plain": [
              "<Figure size 432x288 with 1 Axes>"
            ],
            "image/png": "[encoded data removed]"
          },
          "metadata": {
            "needs_background": "light"
          }
        }
      ]
    },
    {
      "cell_type": "code",
      "metadata": {
        "id": "_8IiwYzr0C6M",
        "colab": {
          "base_uri": "https://localhost:8080/"
        },
        "outputId": "92ff3405-83d1-4d9e-c94b-78477665c1ce"
      },
      "source": [
        "result.histogram(key=\"a,b\")"
      ],
      "execution_count": null,
      "outputs": [
        {
          "output_type": "execute_result",
          "data": {
            "text/plain": [
              "Counter({3: 10})"
            ]
          },
          "metadata": {},
          "execution_count": 7
        }
      ]
    },
    {
      "cell_type": "markdown",
      "metadata": {
        "id": "sn4LwsmviwZx"
      },
      "source": [
        "***Superdense Coding (Bell State): 2 Qubits - CNOT Gate (CX) [and Controlled-U Gate]: Create Bell state (Superposition across Multiple Qubits)***"
      ]
    },
    {
      "cell_type": "markdown",
      "metadata": {
        "id": "tMHUCZ7JW3rD"
      },
      "source": [
        "> CNOT, acting on a two-qubit term $\\left|q_{1} q_{2}\\right\\rangle$, applies the $\\mathbf{N O T}(\\mathbf{X})$ gate to the second qubit only if the first qubit is in state $|1\\rangle$. The first qubit controls the action on the second.\n",
        "\n",
        "> 0 im Output wenn zwei Inputs gleich sind. 1 im Output wenn die Inputs unterschiedlich sind."
      ]
    },
    {
      "cell_type": "markdown",
      "metadata": {
        "id": "ZaEJwXg_j-Uz"
      },
      "source": [
        "*Entanglement*"
      ]
    },
    {
      "cell_type": "code",
      "metadata": {
        "id": "7uuAkp8gkA0S",
        "colab": {
          "base_uri": "https://localhost:8080/"
        },
        "outputId": "5caa5014-0742-46c2-aa90-6a31722146d1"
      },
      "source": [
        "cirq.unitary(cirq.CNOT)"
      ],
      "execution_count": null,
      "outputs": [
        {
          "output_type": "execute_result",
          "data": {
            "text/plain": [
              "array([[1.+0.j, 0.+0.j, 0.+0.j, 0.+0.j],\n",
              "       [0.+0.j, 1.+0.j, 0.+0.j, 0.+0.j],\n",
              "       [0.+0.j, 0.+0.j, 0.+0.j, 1.+0.j],\n",
              "       [0.+0.j, 0.+0.j, 1.+0.j, 0.+0.j]])"
            ]
          },
          "metadata": {},
          "execution_count": 46
        }
      ]
    },
    {
      "cell_type": "markdown",
      "metadata": {
        "id": "khD7BYNRWJXK"
      },
      "source": [
        "The [Controlled NOT gate](https://en.m.wikipedia.org/wiki/Controlled_NOT_gate) (also C-NOT or CNOT, controlled Pauli-X) is a quantum logic gate that is an essential component in the construction of a gate-based quantum computer. **It can be used to entangle and disentangle Bell states**. Any quantum circuit can be simulated to an arbitrary degree of accuracy using a combination of CNOT gates and single qubit rotations."
      ]
    },
    {
      "cell_type": "markdown",
      "metadata": {
        "id": "XjXVjG5wWjQn"
      },
      "source": [
        ">$\n",
        "\\begin{array}{|c|c|c|c|}\n",
        "\\hline {\\text { Before }} & {\\text { Before }}& {\\text { After }}& {\\text { After }} \\\\\n",
        "\\hline \\text { Control } & \\text { Target } & \\text { Control } & \\text { Target } \\\\\n",
        "\\hline|0\\rangle & |0\\rangle & |0\\rangle & |0\\rangle \\\\\n",
        "\\hline|0\\rangle & |1\\rangle & |0\\rangle & |1\\rangle \\\\\n",
        "\\hline|1\\rangle & |0\\rangle & |1\\rangle & |1\\rangle \\\\\n",
        "\\hline|1\\rangle & |1\\rangle & |1\\rangle & |0\\rangle \\\\\n",
        "\\hline\n",
        "\\end{array}\n",
        "$"
      ]
    },
    {
      "cell_type": "markdown",
      "metadata": {
        "id": "_e7Iu9kdXSdI"
      },
      "source": [
        "A common application of the $\\mathrm{C}_{\\text {NOT }}$ gate is to maximally entangle two qubits into the $\\left|\\Phi^{+}\\right\\rangle$ Bell state; this forms part of the setup of the superdense coding, quantum teleportation, and entangled quantum cryptography algorithms."
      ]
    },
    {
      "cell_type": "markdown",
      "metadata": {
        "id": "oNsYOdI-A1rh"
      },
      "source": [
        "CNOT or controlled Pauli-X.\n",
        "\n",
        "* **Verschrankt zwei Qubits und invertiert das Ziel-Qubit**, wenn das Kontroll-Qubit 1 ist:\n",
        "\n",
        "> $|00\\rangle \\rightarrow|00\\rangle$\n",
        "\n",
        "> $|01\\rangle \\rightarrow|01\\rangle$\n",
        "\n",
        "> $|10\\rangle \\rightarrow|11\\rangle$\n",
        "\n",
        "> $|11\\rangle \\rightarrow|10\\rangle$\n",
        "\n",
        "Matrix-Darstellung:\n",
        "\n",
        "> $\\left(\\begin{array}{llll}1 & 0 & 0 & 0 \\\\ 0 & 1 & 0 & 0 \\\\ 0 & 0 & 0 & 1 \\\\ 0 & 0 & 1 & 0\\end{array}\\right)$"
      ]
    },
    {
      "cell_type": "markdown",
      "metadata": {
        "id": "cj9br36Vk44_"
      },
      "source": [
        "The CNOT (or controlled Pauli- $X$ ) gate can be described as the gate that maps the basis states $|a, b\\rangle \\mapsto|a, a \\oplus b\\rangle$, where $\\oplus$ is XOR.\n",
        "\n",
        "**Controlled-U Gate**\n",
        "\n",
        "More generally if $U$ is a gate that operates on single qubits with matrix representation\n",
        "\n",
        ">$\n",
        "U=\\left[\\begin{array}{ll}\n",
        "u_{00} & u_{01} \\\\\n",
        "u_{10} & u_{11}\n",
        "\\end{array}\\right]\n",
        "$\n",
        "\n",
        "then the controlled-U gate is a gate that operates on two qubits in such a way that the first qubit serves as a control.\n",
        "\n",
        "It maps the basis states as follows:"
      ]
    },
    {
      "cell_type": "markdown",
      "metadata": {
        "id": "Tak_03Fvkl1v"
      },
      "source": [
        "$|00\\rangle \\mapsto|00\\rangle$\n",
        "\n",
        "$|01\\rangle \\mapsto|01\\rangle$\n",
        "\n",
        "$|10\\rangle \\mapsto|1\\rangle \\otimes U|0\\rangle=|1\\rangle \\otimes\\left(u_{00}|0\\rangle+u_{10}|1\\rangle\\right)$\n",
        "\n",
        "$|11\\rangle \\mapsto|1\\rangle \\otimes U|1\\rangle=|1\\rangle \\otimes\\left(u_{01}|0\\rangle+u_{11}|1\\rangle\\right)$\n",
        "\n",
        "The matrix representing the controlled $U$ is\n",
        "\n",
        ">$\n",
        "\\mathrm{C} U=\\left[\\begin{array}{cccc}\n",
        "1 & 0 & 0 & 0 \\\\\n",
        "0 & 1 & 0 & 0 \\\\\n",
        "0 & 0 & u_{00} & u_{01} \\\\\n",
        "0 & 0 & u_{10} & u_{11}\n",
        "\\end{array}\\right]\n",
        "$"
      ]
    },
    {
      "cell_type": "markdown",
      "metadata": {
        "id": "PFjTkqQokCsL"
      },
      "source": [
        "**When U is one of the Pauli operators, X,Y, Z, the respective terms \"controlled-X\", \"controlled-Y\", or \"controlled-Z\" are sometimes used**.\n",
        "Sometimes this is shortened to just CX, CY and CZ."
      ]
    },
    {
      "cell_type": "markdown",
      "metadata": {
        "id": "QhT8fxnaNT1l"
      },
      "source": [
        "**Code example: Create Bell state**"
      ]
    },
    {
      "cell_type": "code",
      "metadata": {
        "id": "tqtfaFwR8CEu"
      },
      "source": [
        "# Create Vanilla Qubits\n",
        "# Named Qubit\n",
        "a = cirq.NamedQubit(\"a\")\n",
        "b = cirq.NamedQubit(\"b\")\n",
        "\n",
        "#Line-Qubit\n",
        "qubits = cirq.LineQubit.range(2)"
      ],
      "execution_count": null,
      "outputs": []
    },
    {
      "cell_type": "code",
      "metadata": {
        "id": "zBdsoUTDg28-",
        "colab": {
          "base_uri": "https://localhost:8080/"
        },
        "outputId": "ea5bde48-037f-4b01-e04c-2dfb6e8aa2f9"
      },
      "source": [
        "# Define operations\n",
        "ops=[cirq.H(a), # Superposition\n",
        "     cirq.CNOT(a,b), # Entanglement\n",
        "     cirq.H(a),\n",
        "     cirq.measure(a,b)] # Measurement\n",
        "\n",
        "# Build circuit\n",
        "circuit=cirq.Circuit(ops)\n",
        "\n",
        "print(circuit)"
      ],
      "execution_count": null,
      "outputs": [
        {
          "output_type": "stream",
          "name": "stdout",
          "text": [
            "a: ───H───@───H───M───\n",
            "          │       │\n",
            "b: ───────X───────M───\n"
          ]
        }
      ]
    },
    {
      "cell_type": "markdown",
      "metadata": {
        "id": "nxq5eTXkmys2"
      },
      "source": [
        "*More about creating Bell state from superposition & entanglement: [Demystifying Superdense Coding](https://medium.com/qiskit/demystifying-superdense-coding-41d46401910e)*"
      ]
    },
    {
      "cell_type": "code",
      "metadata": {
        "id": "dF6YnhaagPp2",
        "colab": {
          "base_uri": "https://localhost:8080/"
        },
        "outputId": "0a0b5fac-578b-46bc-f020-fd9753a885a5"
      },
      "source": [
        "# Run Simulations & Measurements\n",
        "simulator = cirq.Simulator()\n",
        "result = simulator.run(circuit,repetitions=100)\n",
        "print('Measurement results')\n",
        "print(result)"
      ],
      "execution_count": null,
      "outputs": [
        {
          "output_type": "stream",
          "name": "stdout",
          "text": [
            "Measurement results\n",
            "a,b=1110010101010110111100101011011111100100110101101101110000110001010000101011100100111110000001011001, 1100000001000011000100101011011000110101101001100111111001101000001100010010100010100100001010100000\n"
          ]
        }
      ]
    },
    {
      "cell_type": "code",
      "metadata": {
        "id": "NMhisVFLhpHX",
        "colab": {
          "base_uri": "https://localhost:8080/",
          "height": 295
        },
        "outputId": "17879c7d-4006-4943-b674-5c7805858852"
      },
      "source": [
        "# Visualization\n",
        "# After doing that, you should see the quantum state become ∣00⟩+∣11⟩\n",
        "_ = cirq.vis.plot_state_histogram(result) #, plt.subplot())\n",
        "# https://quantumai.google/cirq/tutorials/state_histograms"
      ],
      "execution_count": null,
      "outputs": [
        {
          "output_type": "display_data",
          "data": {
            "image/png": "[encoded data removed]",
            "text/plain": [
              "<Figure size 432x288 with 1 Axes>"
            ]
          },
          "metadata": {
            "needs_background": "light"
          }
        }
      ]
    },
    {
      "cell_type": "code",
      "metadata": {
        "id": "9ZgU_Al4jz7R",
        "colab": {
          "base_uri": "https://localhost:8080/"
        },
        "outputId": "3b0b9a45-725e-4ac8-cf81-68ffd08d4b31"
      },
      "source": [
        "result.histogram(key=\"a,b\")"
      ],
      "execution_count": null,
      "outputs": [
        {
          "output_type": "execute_result",
          "data": {
            "text/plain": [
              "Counter({0: 32, 1: 15, 2: 28, 3: 25})"
            ]
          },
          "metadata": {},
          "execution_count": 20
        }
      ]
    },
    {
      "cell_type": "markdown",
      "metadata": {
        "id": "8esNV4PbrpS7"
      },
      "source": [
        "**Make Bell state operations reverse**"
      ]
    },
    {
      "cell_type": "code",
      "metadata": {
        "id": "pexUpicI8DgZ"
      },
      "source": [
        "# Create Vanilla Qubits\n",
        "# Named Qubit\n",
        "a = cirq.NamedQubit(\"a\")\n",
        "b = cirq.NamedQubit(\"b\")\n",
        "\n",
        "#Line-Qubit\n",
        "qubits = cirq.LineQubit.range(2)"
      ],
      "execution_count": null,
      "outputs": []
    },
    {
      "cell_type": "markdown",
      "metadata": {
        "id": "ykAgwQkAtveF"
      },
      "source": [
        "*Operators are unitary*"
      ]
    },
    {
      "cell_type": "code",
      "metadata": {
        "id": "KaXrr6z2rbz0",
        "colab": {
          "base_uri": "https://localhost:8080/"
        },
        "outputId": "9599073c-ccd4-4a91-d99e-945ebe9a7722"
      },
      "source": [
        "# Define operations\n",
        "ops=[cirq.H(a), # Superposition\n",
        "     cirq.CNOT(a,b), # Entanglement\n",
        "     cirq.CNOT(a,b),\n",
        "     cirq.H(a),\n",
        "     cirq.measure(a,b)] # Measurement\n",
        "\n",
        "# Build circuit\n",
        "circuit=cirq.Circuit(ops)\n",
        "\n",
        "print(circuit)"
      ],
      "execution_count": null,
      "outputs": [
        {
          "output_type": "stream",
          "name": "stdout",
          "text": [
            "a: ───H───@───@───H───M───\n",
            "          │   │       │\n",
            "b: ───────X───X───────M───\n"
          ]
        }
      ]
    },
    {
      "cell_type": "code",
      "metadata": {
        "id": "eW2mzWkTrvuI",
        "colab": {
          "base_uri": "https://localhost:8080/"
        },
        "outputId": "2fe1bb4c-48f5-45e3-8367-68f05a15f430"
      },
      "source": [
        "# Run Simulations & Measurements\n",
        "# Outcome should be same as step 1: 0, back to as if nothing happened\n",
        "simulator = cirq.Simulator()\n",
        "result = simulator.run(circuit,repetitions=100)\n",
        "print('Measurement results')\n",
        "print(result)"
      ],
      "execution_count": null,
      "outputs": [
        {
          "output_type": "stream",
          "name": "stdout",
          "text": [
            "Measurement results\n",
            "a,b=0000000000000000000000000000000000000000000000000000000000000000000000000000000000000000000000000000, 0000000000000000000000000000000000000000000000000000000000000000000000000000000000000000000000000000\n"
          ]
        }
      ]
    },
    {
      "cell_type": "code",
      "metadata": {
        "id": "1hr1hYZZr4gA",
        "colab": {
          "base_uri": "https://localhost:8080/"
        },
        "outputId": "0f15896c-9ae0-4c7c-b766-e11de5de2f8c"
      },
      "source": [
        "result.histogram(key=\"a,b\")"
      ],
      "execution_count": null,
      "outputs": [
        {
          "output_type": "execute_result",
          "data": {
            "text/plain": [
              "Counter({0: 100})"
            ]
          },
          "metadata": {},
          "execution_count": 13
        }
      ]
    },
    {
      "cell_type": "code",
      "metadata": {
        "id": "ZH1uLG6ar7Ds",
        "colab": {
          "base_uri": "https://localhost:8080/"
        },
        "outputId": "6e26349e-f5b8-4c61-fe6d-14f4eb8fdb3d"
      },
      "source": [
        "# Visualization\n",
        "# After doing that, you should see the quantum state become ∣00⟩+∣11⟩\n",
        "_ = cirq.vis.plot_state_histogram(result) #, plt.subplot())\n",
        "# https://quantumai.google/cirq/tutorials/state_histograms"
      ],
      "execution_count": null,
      "outputs": [
        {
          "output_type": "display_data",
          "data": {
            "image/png": "[encoded data removed]",
            "text/plain": [
              "<Figure size 432x288 with 1 Axes>"
            ]
          },
          "metadata": {
            "needs_background": "light"
          }
        }
      ]
    },
    {
      "cell_type": "markdown",
      "metadata": {
        "id": "xwCqkmcpML45"
      },
      "source": [
        "**Multiple Qubits: Product State vs Entangled State (Bell State)**"
      ]
    },
    {
      "cell_type": "markdown",
      "metadata": {
        "id": "lE-o94B525zt"
      },
      "source": [
        "* As the name implies, entanglement is a property of quantum mechanical systems that only reveals itself when states begin to interact.\n",
        "\n",
        "* When two qubits are brought together and we'd like to consider the new joint system that they form, we use a fancy new symbol: ⊗. This is called the tensor product, but really it just represents a combination of two or more quantum states.\n",
        "\n",
        "**Product States**\n",
        "* States which can be described as a tensor product of two independent superpositions are known as product states.\n",
        "\n",
        "A joint state of two initialized qubits can be represented as\n",
        "\n",
        ">$|0\\rangle\\otimes|0\\rangle$\n",
        "\n",
        "If we apply the Hadamard gate to the first qubit, it transforms but leaves the other qubit unaffected, since the Hadamard is a single qubit gate:\n",
        "\n",
        ">$\n",
        "\\mathbf{H}|0\\rangle \\otimes|0\\rangle=\\left(\\frac{1}{\\sqrt{2}}|0\\rangle+\\frac{1}{\\sqrt{2}}|1\\rangle\\right) \\otimes|0\\rangle\n",
        "$\n",
        "\n",
        "**Exkurs**: wenn ein Gate bei einem Single Qubit mehr Probability als 0,5 hat, kann man das so schreiben (Achtung: Koeffizient ist Wurzel aus Probability),\n",
        "\n",
        "> $\\mathbf{H}|0\\rangle\\ = (0,9) * |0\\rangle + (0,1) * |1\\rangle$\n",
        "\n",
        "* 0,71 ist für 50% Probability (man muss es squared nehmen!)\n",
        "\n",
        "* 0,9 ist für 0,99 Probability\n",
        "\n",
        "* 1 ist für 100% Probability für State 0, der andere Term hat dann 0 % und verschwindet. Es bleibt dann nur noch $|0\\rangle$\n",
        "\n",
        "The tensor product is distributive, which in this case means it acts much like multiplication:\n",
        "\n",
        ">$\n",
        "\\mathbf{H}|0\\rangle \\otimes|0\\rangle=\\frac{1}{\\sqrt{2}}|0\\rangle \\otimes|0\\rangle+\\frac{1}{\\sqrt{2}}|1\\rangle \\otimes|0\\rangle \\text {. }\n",
        "$\n",
        "\n",
        "Using a series of single-qubit gates, we can transform two initialized qubits into two new arbitrary states:\n",
        "\n",
        ">$\n",
        "\\begin{array}{l}\n",
        "\\text { Qubit 1: } \\quad|0\\rangle \\rightarrow a_{1}|0\\rangle+a_{2}|1\\rangle \\\\\n",
        "\\text { Qubit 2: } \\quad|0\\rangle \\rightarrow b_{1}|0\\rangle+b_{2}|1\\rangle .\n",
        "\\end{array}\n",
        "$\n",
        "\n",
        "The resulting 2 -qubit state is usually written as their product using a fancy new symbol:\n",
        "\n",
        ">$|0\\rangle\n",
        "\\otimes|0\\rangle \\rightarrow\\left(a_{1}|0\\rangle+a_{2}|1\\rangle\\right) \\otimes\\left(b_{1}|0\\rangle+b_{2}|1\\rangle\\right)\n",
        "$\n",
        "\n",
        "Another way to express this would be:\n",
        "\n",
        "> $a_{1} b_{1}|0\\rangle \\otimes|0\\rangle+a_{1} b_{2}|0\\rangle \\otimes|1\\rangle+a_{2} b_{1}|1\\rangle \\otimes|0\\rangle+a_{2} b_{2}|1\\rangle \\otimes|1\\rangle$\n",
        "\n",
        "**Bell state (Entangled State)**\n",
        "\n",
        "* To simplify notations, we sometimes omit the $\\otimes$ sign and only **write $|00\\rangle$ to denote that both the first qubit and the second qubit are in the $|0\\rangle$ state**.\n",
        "\n",
        "* There are four total 2 -qubit combinations, including $|01\\rangle=|0\\rangle \\otimes|1\\rangle$, and so on.\n",
        "\n",
        "With this simplified notation, a general 2 -qubit joint state can be written as an arbitrary linear combination of four 2 -qubit computational states:\n",
        "\n",
        ">$\n",
        "a|00\\rangle+b|01\\rangle+c|10\\rangle+d|11\\rangle\n",
        "$\n",
        "\n",
        "This is quite a bit different than the joint state found by preparing both qubits into independent single-qubit superpositions:\n",
        "\n",
        ">$\n",
        "\\left(a_{1}|0\\rangle+a_{2}|1\\rangle\\right) \\otimes\\left(b_{1}|0\\rangle+b_{2}|1\\rangle\\right)=a_{1} b_{1}|00\\rangle+a_{1} b_{2}|01\\rangle+a_{2} b_{1}|10\\rangle+\n",
        "$\n",
        "\n",
        "* simple and well-known joint state called the Bell state:\n",
        "\n",
        "> $\\frac{1}{\\sqrt{2}}|00\\rangle+\\frac{1}{\\sqrt{2}}|11\\rangle$\n",
        "\n",
        "* you can NOT write the Bell state as a product of two single-qubit states\n",
        "\n",
        "Entangled States\n",
        "* The Bell state is the prototypical example of an entangled state.\n",
        "* Two qubits which are entangled can never be separated into two independent states: their coefficients are a tangled-up mess:\n",
        "\n",
        "> $|\\psi\\rangle_{\\text {Bell }}=\\frac{1}{\\sqrt{2}}(|00\\rangle+|11\\rangle)$"
      ]
    },
    {
      "cell_type": "markdown",
      "metadata": {
        "id": "_ml34dkmRTZb"
      },
      "source": [
        "![ggg](https://raw.githubusercontent.com/deltorobarba/repo/master/quantum_036.jpg)"
      ]
    },
    {
      "cell_type": "markdown",
      "metadata": {
        "id": "FwxQFhNvRcfh"
      },
      "source": [
        "* We can contrast this with n-qubit product states, where the state of every qubit is known and they have only 2n independent amplitudes. This is a vast difference!\n",
        "\n",
        "* This means that most of the n-qubit space is populated by entangled states, ones that can't be written as a simple product of its components."
      ]
    },
    {
      "cell_type": "markdown",
      "metadata": {
        "id": "Te53NAyORwK7"
      },
      "source": [
        "* We will see in a bit that with only two parameterized gates, we could transform an initialized qubit into any possible single qubit state on the surface of the Bloch sphere:\n",
        "\n",
        "> $\\mathcal{R}_{\\phi} \\mathcal{R}_{\\theta}|0\\rangle=a_{1}|0\\rangle+a_{2}|1\\rangle$"
      ]
    },
    {
      "cell_type": "markdown",
      "metadata": {
        "id": "uljvt0GuUJ20"
      },
      "source": [
        "**How to get to an Entanglement Circuit?**"
      ]
    },
    {
      "cell_type": "markdown",
      "metadata": {
        "id": "nzip0tFBUn9u"
      },
      "source": [
        "To start, we can prepare two qubits in the $|0\\rangle$ state. At this point there's no connection between them, and we can write them in the product state $|\\psi\\rangle=$\n",
        "$|0\\rangle \\otimes|0\\rangle$ which is the same as $|00\\rangle$.\n",
        "\n",
        "Comparing $|\\psi\\rangle$ to the Bell state, we see that at some point along the way, we'll need to get into a superposition. Using the set of gates we currently have at our disposal $(\\mathbf{X}, \\mathbf{Z}, \\mathbf{H})$, there doesn't appear to be a single gate that we can apply to take us from $|\\psi\\rangle$ to $\\left|\\psi_{\\text {Bell }}\\right\\rangle .$ Naively, it seems that we have two tasks ahead of\n",
        "us:\n",
        "\n",
        "1. Getting $|\\psi\\rangle$ into a superposition.\n",
        "\n",
        "2. Adjusting the individual kets so that we're in the Bell state.\n",
        "\n",
        "At the moment we have the Hadamard, which can move one of our qubits into superposition. For argument's sake, let's apply it to the first qubit:\n",
        "$$\n",
        "\\begin{aligned}\n",
        "\\mathbf{H}_{1}|\\psi\\rangle &=(\\mathbf{H}|0\\rangle) \\otimes|0\\rangle \\\\\n",
        "&=\\frac{|0\\rangle+|1\\rangle}{\\sqrt{2}} \\otimes|0\\rangle \\\\\n",
        "&=\\frac{|00\\rangle+|10\\rangle}{\\sqrt{2}} .\n",
        "\\end{aligned}\n",
        "$$"
      ]
    },
    {
      "cell_type": "markdown",
      "metadata": {
        "id": "4cfRfbdXUylr"
      },
      "source": [
        "Now we need to find gates that allow us to coordinate action on two qubits."
      ]
    },
    {
      "cell_type": "markdown",
      "metadata": {
        "id": "-wLmVt2GVInj"
      },
      "source": [
        "While single qubit gates like $\\mathbf{X}$ and $\\mathbf{H}$ can't get us all the way to the Bell state, we'd still like to keep our gate set as simple as possible. In this spirit, let's stick with the Hadamard gate to perform our superposition, and look for a multiqubit gate $\\mathrm{M}$ that can get us the rest of the way:\n",
        "\n",
        "> $\n",
        "\\frac{|00\\rangle+|10\\rangle}{\\sqrt{2}} \\stackrel{\\mathrm{M}}{\\longrightarrow} \\frac{|00\\rangle+|11\\rangle}{\\sqrt{2}}\n",
        "$\n",
        "\n",
        "**Die erste Spalte mit 0 und 1 (links jeweils) zeigt, dass dieses Qubit in einer Superposition ist mit 50% Probability von 0 und 1, während das zweite Qubit (jeweils rechts) 0 und 0 ist, weil es sich nich im initialen Zustand befindet, der immer 100% 0 ist!**\n",
        "\n",
        "Following behaviors would make for a suitable multi-qubit gate M:\n",
        "\n",
        "* Flip qubit 2 whenever qubit 1 and qubit 2 are opposite\n",
        "\n",
        "* Flip qubit 2 if qubit 1 is in state ∣1⟩\n",
        "\n",
        "* we need to keep the core principle of quantum mechanics — reversibility!"
      ]
    },
    {
      "cell_type": "markdown",
      "metadata": {
        "id": "F-hyI4Y8WH5A"
      },
      "source": [
        "Consider the action of $\\mathbf{M}$ on the two-qubit basis states: if a $|11\\rangle$ term appears in the quantum state after we apply $\\mathrm{M}$, we can't tell if it's because we started with a $|11\\rangle$ term, or if it's because we started with a $|10\\rangle$ term.\n",
        "\n",
        "The preferred entangling gate, called CNOT (controlled NOT), gets us into the Bell state while respecting the reversibility condition:\n",
        "$$\n",
        "\\begin{array}{l}\n",
        "|00\\rangle \\stackrel{\\text { CNOT }}{\\longrightarrow}|00\\rangle \\\\\n",
        "|01\\rangle \\stackrel{\\text { CNOT }}{\\longrightarrow}|01\\rangle \\\\\n",
        "|10\\rangle \\stackrel{\\text { CNOT }}{\\longrightarrow}|11\\rangle \\\\\n",
        "|11\\rangle \\stackrel{\\text { CNOT }}{\\longrightarrow}|10\\rangle .\n",
        "\\end{array}\n",
        "$$"
      ]
    },
    {
      "cell_type": "markdown",
      "metadata": {
        "id": "GsYSv3aWW02A"
      },
      "source": [
        "> CNOT, acting on a two-qubit term $\\left|q_{1} q_{2}\\right\\rangle$, applies the $\\mathbf{N O T}(\\mathbf{X})$ gate to the second qubit only if the first qubit is in state $|1\\rangle$. The first qubit controls the action on the second."
      ]
    },
    {
      "cell_type": "markdown",
      "metadata": {
        "id": "tnpFAHpAX3CO"
      },
      "source": [
        "This enables us to prepare the entangled Bell state and is a subroutine\n",
        "\n",
        "> $\\frac{|10\\rangle+|00\\rangle}{\\sqrt{2}} \\stackrel{\\text { CNOT }}{\\longrightarrow} \\frac{|11\\rangle+|00\\rangle}{\\sqrt{2}}$"
      ]
    },
    {
      "cell_type": "markdown",
      "metadata": {
        "id": "exg3Vtx79vEF"
      },
      "source": [
        "**For Quantum Cryptography**"
      ]
    },
    {
      "cell_type": "markdown",
      "metadata": {
        "id": "9JG9DW7T9yVu"
      },
      "source": [
        "* But Alice and Bob aren't stuck with the computational basis: **the Bell state is entangled no matter what basis we use to analyze it**. This is particularly easy to see by switching to the Hadamard basis.\n",
        "\n",
        "* As we showed before, the Bell state has the same form in the computational basis as it does in the Hadamard basis:"
      ]
    },
    {
      "cell_type": "markdown",
      "metadata": {
        "id": "BJJVI3nJ95Sd"
      },
      "source": [
        "> $\\left|\\psi_{\\text {Bell }}\\right\\rangle=\\frac{|00\\rangle+|11\\rangle}{\\sqrt{2}}=\\frac{|--\\rangle+|++\\rangle}{\\sqrt{2}}$"
      ]
    },
    {
      "cell_type": "markdown",
      "metadata": {
        "id": "Ku7YIhNG99wX"
      },
      "source": [
        "* So, Alice and Bob are free to use either basis to coordinate their bits."
      ]
    },
    {
      "cell_type": "markdown",
      "metadata": {
        "id": "Dy2g1dN5CzEk"
      },
      "source": [
        "*If Alice measures her qubit using the Hadamard basis, what are the possibilities for Bob's measurement in the computational basis?*"
      ]
    },
    {
      "cell_type": "markdown",
      "metadata": {
        "id": "CBI_xr4hDMDh"
      },
      "source": [
        "![gg](https://raw.githubusercontent.com/deltorobarba/repo/master/quantum_037.jpg)"
      ]
    },
    {
      "cell_type": "markdown",
      "metadata": {
        "id": "op9AlkI4DSIz"
      },
      "source": [
        "![ggg](https://raw.githubusercontent.com/deltorobarba/repo/master/quantum_038.jpg)"
      ]
    },
    {
      "cell_type": "markdown",
      "metadata": {
        "id": "dba0LoLwGlRc"
      },
      "source": [
        "**CNOT Gate and Entanglement**"
      ]
    },
    {
      "cell_type": "markdown",
      "metadata": {
        "id": "TPNGjNBmG7Fi"
      },
      "source": [
        "Quantum states $|\\psi\\rangle$ aren't always one of the computational basis states.\n",
        "\n",
        "In general, they can also be (ignoring normalization factors)\n",
        "\n",
        ">$\n",
        "|+\\rangle=|0\\rangle+|1\\rangle\n",
        "$\n",
        "\n",
        "or\n",
        "\n",
        ">$\n",
        "|-\\rangle=|0\\rangle-|1\\rangle \\text {. }\n",
        "$"
      ]
    },
    {
      "cell_type": "markdown",
      "metadata": {
        "id": "TUslZaxCGow1"
      },
      "source": [
        "*What does the CNOT gate do with these input states?*"
      ]
    },
    {
      "cell_type": "markdown",
      "metadata": {
        "id": "mB5YrBr6GeKQ"
      },
      "source": [
        "![ggg](https://raw.githubusercontent.com/deltorobarba/repo/master/quantum_039.jpg)"
      ]
    },
    {
      "cell_type": "markdown",
      "metadata": {
        "id": "MZO0odc6qWrf"
      },
      "source": [
        "***Superdense Coding (Bell State): 2 Qubits - H, CNOT & X-Gate: Superdense Coding for Quantum Communication***"
      ]
    },
    {
      "cell_type": "markdown",
      "metadata": {
        "id": "9t1z-q7TYSAb"
      },
      "source": [
        "Superdense Coding is a method to transmit two classical bits of information by sending only one qubit of information. This is accomplished by pre-sharing an entangled state between the sender and the receiver. This entangled state allows the receiver of the one qubit of information to decode the two classical bits that were originally encoded by the sender."
      ]
    },
    {
      "cell_type": "markdown",
      "metadata": {
        "id": "lk5lRZUzYycF"
      },
      "source": [
        "*Complete example from Cirq*"
      ]
    },
    {
      "cell_type": "code",
      "metadata": {
        "colab": {
          "base_uri": "https://localhost:8080/",
          "height": 331
        },
        "id": "QjgzsbSpYlMx",
        "outputId": "74cebd2b-9b64-4ed8-9901-55f1f06c72f9"
      },
      "source": [
        "def make_superdense_circuit():\n",
        "    circuit = cirq.Circuit()\n",
        "    q0, q1, q2, q3, q4 = cirq.LineQubit.range(5)\n",
        "\n",
        "    # Randomly sets q0 and q1 to either 0 or 1\n",
        "    circuit.append([cirq.H(q0), cirq.H(q1)])\n",
        "    circuit.append(cirq.measure(q0, q1, key=\"input \"))\n",
        "\n",
        "    # Creates Bell State to be shared on q2 and q4\n",
        "    circuit.append([cirq.H(q2), cirq.CNOT(q2, q4)])\n",
        "    # Step 1 of encoding (controlled NOT gate on q1 / q2)\n",
        "    circuit.append(cirq.CNOT(q1, q2))\n",
        "    # Step 2 of encoding (controlled Z gate on q0 / q2)\n",
        "    circuit.append(cirq.CZ(q0, q2))\n",
        "    # Sends encoded information to receiver\n",
        "    circuit.append(cirq.SWAP(q2, q3))\n",
        "    # Step 1 of decoding (controlled NOT gate on q3 and q4)\n",
        "    circuit.append(cirq.CNOT(q3, q4))\n",
        "    # Step 2 of decoding (Hadamard gate on q3)\n",
        "    circuit.append(cirq.H(q3))\n",
        "    # Measurement by receiver to decode bits\n",
        "    circuit.append(cirq.measure(q3, q4, key=\"output\"))\n",
        "\n",
        "    return circuit\n",
        "\n",
        "\n",
        "def main():\n",
        "    circuit = make_superdense_circuit()\n",
        "    print(\"Circuit:\")\n",
        "    print(circuit)\n",
        "\n",
        "    sim = cirq.Simulator()\n",
        "    results = sim.run(circuit, repetitions=20)\n",
        "    print(\"\\nResults:\")\n",
        "    print(results)\n",
        "\n",
        "\n",
        "if __name__ == '__main__':\n",
        "    main()"
      ],
      "execution_count": null,
      "outputs": [
        {
          "output_type": "error",
          "ename": "NameError",
          "evalue": "name 'cirq' is not defined",
          "traceback": [
            "\u001b[0;31m---------------------------------------------------------------------------\u001b[0m",
            "\u001b[0;31mNameError\u001b[0m                                 Traceback (most recent call last)",
            "\u001b[0;32m<ipython-input-1-b2894455c156>\u001b[0m in \u001b[0;36m<cell line: 0>\u001b[0;34m()\u001b[0m\n\u001b[1;32m     37\u001b[0m \u001b[0;34m\u001b[0m\u001b[0m\n\u001b[1;32m     38\u001b[0m \u001b[0;32mif\u001b[0m \u001b[0m__name__\u001b[0m \u001b[0;34m==\u001b[0m \u001b[0;34m'__main__'\u001b[0m\u001b[0;34m:\u001b[0m\u001b[0;34m\u001b[0m\u001b[0;34m\u001b[0m\u001b[0m\n\u001b[0;32m---> 39\u001b[0;31m     \u001b[0mmain\u001b[0m\u001b[0;34m(\u001b[0m\u001b[0;34m)\u001b[0m\u001b[0;34m\u001b[0m\u001b[0;34m\u001b[0m\u001b[0m\n\u001b[0m",
            "\u001b[0;32m<ipython-input-1-b2894455c156>\u001b[0m in \u001b[0;36mmain\u001b[0;34m()\u001b[0m\n\u001b[1;32m     26\u001b[0m \u001b[0;34m\u001b[0m\u001b[0m\n\u001b[1;32m     27\u001b[0m \u001b[0;32mdef\u001b[0m \u001b[0mmain\u001b[0m\u001b[0;34m(\u001b[0m\u001b[0;34m)\u001b[0m\u001b[0;34m:\u001b[0m\u001b[0;34m\u001b[0m\u001b[0;34m\u001b[0m\u001b[0m\n\u001b[0;32m---> 28\u001b[0;31m     \u001b[0mcircuit\u001b[0m \u001b[0;34m=\u001b[0m \u001b[0mmake_superdense_circuit\u001b[0m\u001b[0;34m(\u001b[0m\u001b[0;34m)\u001b[0m\u001b[0;34m\u001b[0m\u001b[0;34m\u001b[0m\u001b[0m\n\u001b[0m\u001b[1;32m     29\u001b[0m     \u001b[0mprint\u001b[0m\u001b[0;34m(\u001b[0m\u001b[0;34m\"Circuit:\"\u001b[0m\u001b[0;34m)\u001b[0m\u001b[0;34m\u001b[0m\u001b[0;34m\u001b[0m\u001b[0m\n\u001b[1;32m     30\u001b[0m     \u001b[0mprint\u001b[0m\u001b[0;34m(\u001b[0m\u001b[0mcircuit\u001b[0m\u001b[0;34m)\u001b[0m\u001b[0;34m\u001b[0m\u001b[0;34m\u001b[0m\u001b[0m\n",
            "\u001b[0;32m<ipython-input-1-b2894455c156>\u001b[0m in \u001b[0;36mmake_superdense_circuit\u001b[0;34m()\u001b[0m\n\u001b[1;32m      1\u001b[0m \u001b[0;32mdef\u001b[0m \u001b[0mmake_superdense_circuit\u001b[0m\u001b[0;34m(\u001b[0m\u001b[0;34m)\u001b[0m\u001b[0;34m:\u001b[0m\u001b[0;34m\u001b[0m\u001b[0;34m\u001b[0m\u001b[0m\n\u001b[0;32m----> 2\u001b[0;31m     \u001b[0mcircuit\u001b[0m \u001b[0;34m=\u001b[0m \u001b[0mcirq\u001b[0m\u001b[0;34m.\u001b[0m\u001b[0mCircuit\u001b[0m\u001b[0;34m(\u001b[0m\u001b[0;34m)\u001b[0m\u001b[0;34m\u001b[0m\u001b[0;34m\u001b[0m\u001b[0m\n\u001b[0m\u001b[1;32m      3\u001b[0m     \u001b[0mq0\u001b[0m\u001b[0;34m,\u001b[0m \u001b[0mq1\u001b[0m\u001b[0;34m,\u001b[0m \u001b[0mq2\u001b[0m\u001b[0;34m,\u001b[0m \u001b[0mq3\u001b[0m\u001b[0;34m,\u001b[0m \u001b[0mq4\u001b[0m \u001b[0;34m=\u001b[0m \u001b[0mcirq\u001b[0m\u001b[0;34m.\u001b[0m\u001b[0mLineQubit\u001b[0m\u001b[0;34m.\u001b[0m\u001b[0mrange\u001b[0m\u001b[0;34m(\u001b[0m\u001b[0;36m5\u001b[0m\u001b[0;34m)\u001b[0m\u001b[0;34m\u001b[0m\u001b[0;34m\u001b[0m\u001b[0m\n\u001b[1;32m      4\u001b[0m \u001b[0;34m\u001b[0m\u001b[0m\n\u001b[1;32m      5\u001b[0m     \u001b[0;31m# Randomly sets q0 and q1 to either 0 or 1\u001b[0m\u001b[0;34m\u001b[0m\u001b[0;34m\u001b[0m\u001b[0m\n",
            "\u001b[0;31mNameError\u001b[0m: name 'cirq' is not defined"
          ]
        }
      ]
    },
    {
      "cell_type": "markdown",
      "metadata": {
        "id": "nPQWnRvwYoTQ"
      },
      "source": [
        "*Step by Step Walkthrough*"
      ]
    },
    {
      "cell_type": "code",
      "metadata": {
        "id": "20Va63288FK9",
        "colab": {
          "base_uri": "https://localhost:8080/",
          "height": 217
        },
        "outputId": "0f4c0222-58d1-4484-d1ca-59d7895e8534"
      },
      "source": [
        "# Create Vanilla Qubits\n",
        "# Named Qubit\n",
        "a = cirq.NamedQubit(\"a\")\n",
        "b = cirq.NamedQubit(\"b\")\n",
        "\n",
        "#Line-Qubit\n",
        "qubits = cirq.LineQubit.range(2)"
      ],
      "execution_count": null,
      "outputs": [
        {
          "output_type": "error",
          "ename": "NameError",
          "evalue": "name 'cirq' is not defined",
          "traceback": [
            "\u001b[0;31m---------------------------------------------------------------------------\u001b[0m",
            "\u001b[0;31mNameError\u001b[0m                                 Traceback (most recent call last)",
            "\u001b[0;32m<ipython-input-2-d11bea0aacec>\u001b[0m in \u001b[0;36m<cell line: 0>\u001b[0;34m()\u001b[0m\n\u001b[1;32m      1\u001b[0m \u001b[0;31m# Create Vanilla Qubits\u001b[0m\u001b[0;34m\u001b[0m\u001b[0;34m\u001b[0m\u001b[0m\n\u001b[1;32m      2\u001b[0m \u001b[0;31m# Named Qubit\u001b[0m\u001b[0;34m\u001b[0m\u001b[0;34m\u001b[0m\u001b[0m\n\u001b[0;32m----> 3\u001b[0;31m \u001b[0ma\u001b[0m \u001b[0;34m=\u001b[0m \u001b[0mcirq\u001b[0m\u001b[0;34m.\u001b[0m\u001b[0mNamedQubit\u001b[0m\u001b[0;34m(\u001b[0m\u001b[0;34m\"a\"\u001b[0m\u001b[0;34m)\u001b[0m\u001b[0;34m\u001b[0m\u001b[0;34m\u001b[0m\u001b[0m\n\u001b[0m\u001b[1;32m      4\u001b[0m \u001b[0mb\u001b[0m \u001b[0;34m=\u001b[0m \u001b[0mcirq\u001b[0m\u001b[0;34m.\u001b[0m\u001b[0mNamedQubit\u001b[0m\u001b[0;34m(\u001b[0m\u001b[0;34m\"b\"\u001b[0m\u001b[0;34m)\u001b[0m\u001b[0;34m\u001b[0m\u001b[0;34m\u001b[0m\u001b[0m\n\u001b[1;32m      5\u001b[0m \u001b[0;34m\u001b[0m\u001b[0m\n",
            "\u001b[0;31mNameError\u001b[0m: name 'cirq' is not defined"
          ]
        }
      ]
    },
    {
      "cell_type": "markdown",
      "metadata": {
        "id": "pbSod7koqiXk"
      },
      "source": [
        "https://medium.com/qiskit/demystifying-superdense-coding-41d46401910e"
      ]
    },
    {
      "cell_type": "markdown",
      "metadata": {
        "id": "sZYteiqUsRV9"
      },
      "source": [
        "*Now adding Pauli X gate to alter outcome*"
      ]
    },
    {
      "cell_type": "code",
      "metadata": {
        "id": "2FZm_6jgsHAg"
      },
      "source": [
        "# Define operations\n",
        "ops=[cirq.H(a), # Superposition\n",
        "     cirq.CNOT(a,b), # Entanglement\n",
        "     cirq.X(a), # Pauli X gate -> changes outcome from 00 to 01\n",
        "     cirq.CNOT(a,b),\n",
        "     cirq.H(a),\n",
        "     cirq.measure(a,b)] # Measurement\n",
        "\n",
        "# Build circuit\n",
        "circuit=cirq.Circuit(ops)\n",
        "\n",
        "print(circuit)"
      ],
      "execution_count": null,
      "outputs": []
    },
    {
      "cell_type": "code",
      "metadata": {
        "id": "S1-1MAVyuUtB"
      },
      "source": [
        "simulator = cirq.Simulator()\n",
        "result = simulator.run(circuit,repetitions=100)\n",
        "print('Measurement results')\n",
        "print(result)"
      ],
      "execution_count": null,
      "outputs": []
    },
    {
      "cell_type": "code",
      "metadata": {
        "id": "-kXujiebsaoS"
      },
      "source": [
        "# Visualization\n",
        "# After doing that, you should see the quantum state become ∣00⟩+∣11⟩\n",
        "_ = cirq.vis.plot_state_histogram(result) #, plt.subplot())\n",
        "# https://quantumai.google/cirq/tutorials/state_histograms"
      ],
      "execution_count": null,
      "outputs": []
    },
    {
      "cell_type": "code",
      "metadata": {
        "id": "BYnYC_jRsdau"
      },
      "source": [
        "result.histogram(key=\"a,b\")"
      ],
      "execution_count": null,
      "outputs": []
    }
  ]
}