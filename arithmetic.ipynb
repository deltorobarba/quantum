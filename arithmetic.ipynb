{
  "nbformat": 4,
  "nbformat_minor": 0,
  "metadata": {
    "colab": {
      "provenance": [],
      "authorship_tag": "ABX9TyMAFKEslhBLjiDWX/YiBjH+",
      "include_colab_link": true
    },
    "kernelspec": {
      "name": "python3",
      "display_name": "Python 3"
    },
    "language_info": {
      "name": "python"
    }
  },
  "cells": [
    {
      "cell_type": "markdown",
      "metadata": {
        "id": "view-in-github",
        "colab_type": "text"
      },
      "source": [
        "<a href=\"https://colab.research.google.com/github/deltorobarba/quantum/blob/main/arithmetic.ipynb\" target=\"_parent\"><img src=\"https://colab.research.google.com/assets/colab-badge.svg\" alt=\"Open In Colab\"/></a>"
      ]
    },
    {
      "cell_type": "markdown",
      "source": [
        "# <font color=\"blue\">**Quantum Arithmetic**"
      ],
      "metadata": {
        "id": "8NaMYy4Ahdpk"
      }
    },
    {
      "cell_type": "markdown",
      "source": [
        "*Simple Addition & Multiplication with Qubits*"
      ],
      "metadata": {
        "id": "suDkPLFx9C0j"
      }
    },
    {
      "cell_type": "markdown",
      "source": [
        "https://summerofcode.withgoogle.com/programs/2022/projects/bYQLcqgf\n",
        "\n",
        "**Task 1: Addition of 1 + 0 + 0 = 1 (01 in binary): We flip q0 and q1 from 0 to 1 with Pauli-X**\n",
        "\n",
        "**Task 2: Addition of 1 + 1 + 0 = 2 (10 in binary): We flip q0 and q1 from 0 to 1 with Pauli-X**\n",
        "\n",
        "**Task 3: Addition of 1 + 1 + 1 = 3 (11 in binary): We flip q0, q1 and q2 from 0 to 1 with Pauli-X**\n",
        "\n",
        "\n"
      ],
      "metadata": {
        "id": "sZzksCzJ9IsC"
      }
    },
    {
      "cell_type": "markdown",
      "source": [
        "https://qiskit.org/textbook/ch-states/atoms-computation.html#adder\n",
        "\n"
      ],
      "metadata": {
        "id": "Ag36BugP9OzD"
      }
    },
    {
      "cell_type": "code",
      "source": [
        "import cirq\n",
        "\n",
        "# Create Circuit object\n",
        "circuit = cirq.Circuit()\n",
        "\n",
        "# Define 2 qubits - They start with 0 (if you measure no, you'll see a 0 in both)\n",
        "(q0, q1, q2, q3) = cirq.LineQubit.range(4)\n",
        "\n",
        "\n",
        "\n",
        "## Set up calculation:\n",
        "\n",
        "# We flip q0 from 0 to 1 with Pauli-X\n",
        "circuit.append([cirq.X(q0)])\n",
        "\n",
        "# We flip q1 from 0 to 1 with Pauli-X\n",
        "#circuit.append([cirq.X(q1)])\n",
        "\n",
        "# We flip q2 from 0 to 1 with Pauli-X\n",
        "#circuit.append([cirq.X(q2)])\n",
        "\n",
        "\n",
        "\n",
        "# CNOT (Controlled Pauli X) for input q2 and target q0 (0 is same, 1 if different for target)\n",
        "# since q2 is 0 and q0 is 1, result will stay 1\n",
        "circuit.append([cirq.CNOT(q0, q2)])\n",
        "\n",
        "# CNOT (Controlled Pauli X) for input q2 and target q1 (0 is same, 1 if different for target)\n",
        "# since q2 is 0 and q1 is 1, result will stay 1\n",
        "circuit.append([cirq.CNOT(q1, q2)])\n",
        "\n",
        "# Toffoli (CCNOT) gate on q3 (if both inputs are equal, write 1, else 0) (perform a NOT on target qubit when both controls are in state 1)\n",
        "circuit.append([cirq.CCX(q0, q1, q3)])\n",
        "\n",
        "# Measure output quantum bits q2 and q3\n",
        "circuit.append([cirq.measure(q2), cirq.measure(q3)])\n",
        "\n",
        "# See what circuit has been produced (optional)\n",
        "print(circuit)"
      ],
      "metadata": {
        "colab": {
          "base_uri": "https://localhost:8080/"
        },
        "id": "IMfe7u8j8tK5",
        "outputId": "e9690219-b70f-4810-8fd8-35d812b45ee0"
      },
      "execution_count": null,
      "outputs": [
        {
          "output_type": "stream",
          "name": "stdout",
          "text": [
            "                  ┌──┐\n",
            "0: ───X───@────────@─────────\n",
            "          │        │\n",
            "1: ───────┼───@────@─────────\n",
            "          │   │    │\n",
            "2: ───────X───X────┼M────────\n",
            "                   │\n",
            "3: ────────────────X─────M───\n",
            "                  └──┘\n"
          ]
        }
      ]
    },
    {
      "cell_type": "code",
      "source": [
        "# Step 6: Perform simulation of the circuit and read out result\n",
        "sim = cirq.Simulator()\n",
        "results = sim.run(circuit, repetitions=10)\n",
        "print(results)"
      ],
      "metadata": {
        "colab": {
          "base_uri": "https://localhost:8080/"
        },
        "id": "RsCNAOlO8xEE",
        "outputId": "26ba2552-a162-49bf-ac51-39b069da2cb4"
      },
      "execution_count": null,
      "outputs": [
        {
          "output_type": "stream",
          "name": "stdout",
          "text": [
            "q(2)=1111111111\n",
            "q(3)=0000000000\n"
          ]
        }
      ]
    },
    {
      "cell_type": "markdown",
      "source": [
        ">* Read from rightmost qubit first (q3) and then next left (q2): result is 10 (binary) = 2 in decimal"
      ],
      "metadata": {
        "id": "KObteRjZ81Ta"
      }
    },
    {
      "cell_type": "markdown",
      "source": [
        "<font color=\"blue\">*Simple Multiplication with Qubits*\n",
        "\n",
        "https://csferrie.medium.com/the-stupidest-most-technologically-and-resource-inefficient-way-to-multiply-by-two-fd6d0290f7b6"
      ],
      "metadata": {
        "id": "xNXnefxS85g9"
      }
    }
  ]
}